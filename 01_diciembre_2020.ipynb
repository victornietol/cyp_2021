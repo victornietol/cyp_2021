{
  "nbformat": 4,
  "nbformat_minor": 0,
  "metadata": {
    "colab": {
      "name": "01_diciembre_2020.ipynb",
      "provenance": [],
      "authorship_tag": "ABX9TyMTlVzAKQ1aw0WWd9yNv0ky",
      "include_colab_link": true
    },
    "kernelspec": {
      "name": "python3",
      "display_name": "Python 3"
    }
  },
  "cells": [
    {
      "cell_type": "markdown",
      "metadata": {
        "id": "view-in-github",
        "colab_type": "text"
      },
      "source": [
        "<a href=\"https://colab.research.google.com/github/victornietol/cyp_2021/blob/main/01_diciembre_2020.ipynb\" target=\"_parent\"><img src=\"https://colab.research.google.com/assets/colab-badge.svg\" alt=\"Open In Colab\"/></a>"
      ]
    },
    {
      "cell_type": "code",
      "metadata": {
        "colab": {
          "base_uri": "https://localhost:8080/"
        },
        "id": "iWFHa2RVTL4z",
        "outputId": "33b38dc8-7c37-466c-ea0f-37772a0ca65c"
      },
      "source": [
        "#Ejemplo 1\n",
        "#Pedir 3 números enteros y mostrar el mayor de los tres\n",
        "\n",
        "NUM1 = int(input(\"Introduce el primer número: \"))\n",
        "NUM2 = int(input(\"Introduce el segundo número: \"))\n",
        "NUM3 = int(input(\"Introduce el tercer número: \"))\n",
        "\n",
        "if NUM1 >= NUM2 and NUM1>=NUM3:\n",
        "  print(f\"{NUM1} es el mayor\")\n",
        "\n",
        "elif NUM2 >=NUM1 and NUM2 >= NUM3:\n",
        "  print(f\"{NUM2} es el mayor\")"
      ],
      "execution_count": 3,
      "outputs": [
        {
          "output_type": "stream",
          "text": [
            "Introduce el primer número: 9\n",
            "Introduce el segundo número: 3\n",
            "Introduce el tercer número: 4\n",
            "9 es el mayor\n"
          ],
          "name": "stdout"
        }
      ]
    },
    {
      "cell_type": "code",
      "metadata": {
        "colab": {
          "base_uri": "https://localhost:8080/"
        },
        "id": "rAnLYrWCV2PA",
        "outputId": "cf9d7946-83c3-4af7-dd75-e9317a754028"
      },
      "source": [
        "#Ejemplo 2\n",
        "print(\"Ingrese el nombre del trabajador\")\n",
        "NOMBRE = input()\n",
        "print(\"Cuantas horas trabajo esta semana\", NOMBRE ,\":\")\n",
        "HORAS = input()\n",
        "HORAS = int(HORAS)\n",
        "print(\"Cuanto se le paga por hora? :\")\n",
        "SUELDOH = input()\n",
        "SUELDOH = float(SUELDOH)\n",
        "\n",
        "#Evaluar el sueldo\n",
        "\n",
        "if(HORAS <= 40):\n",
        "  PAGO = HORAS * SUELDOH\n",
        "  print(\"El sueldo final de \" , NOMBRE , \"Es $\", PAGO)\n",
        "\n",
        "else:\n",
        "  EXTRA = HORAS - 40\n",
        "  PAGO = 40 * SUELDOH\n",
        "  PAGOFINAL = PAGO + ((EXTRA * SUELDOH) * 2)\n",
        "  print(\"El sueldo final de \", NOMBRE , \"es $\", PAGOFINAL)"
      ],
      "execution_count": 6,
      "outputs": [
        {
          "output_type": "stream",
          "text": [
            "Ingrese el nombre del trabajador\n",
            "Arturo\n",
            "Cuantas horas trabajo esta semana Arturo :\n",
            "10\n",
            "Cuanto se le paga por hora? :\n",
            "40\n",
            "El sueldo final de  Arturo Es $ 400.0\n"
          ],
          "name": "stdout"
        }
      ]
    },
    {
      "cell_type": "code",
      "metadata": {
        "colab": {
          "base_uri": "https://localhost:8080/"
        },
        "id": "f_aiMnR2ZIP1",
        "outputId": "b4079ef9-6ace-4d4a-abf4-a81882b2f033"
      },
      "source": [
        "#Ejemplo 3\n",
        "\n",
        "#Calcular el salario semanal de x trabajador\n",
        "#El salario semanal se calcula en base a las horas semanales trabajadas\n",
        "#El pago por hora es variable (se pide por teclado)\n",
        "#Si las horas trabajadas superan las 40 horas, el pago por hora extra es:\n",
        "#Doble en el rango de 41horas a 50horas\n",
        "#Triple en el rango de 51horas a 60 horas\n",
        "#Incentivo de $2000 si rebasa las 60 horas\n",
        "\n",
        "print(\"Ingrese el nombre del trabajador\")\n",
        "NOMBRE = input()\n",
        "print(f\"Cuantas horas trabajo esta semana {NOMBRE}:\")\n",
        "HORAS = input()\n",
        "HORAS = int(HORAS)\n",
        "print(\"Cuanto se le paga por hora\")\n",
        "SUELDOH = input()\n",
        "SUELDOH = float(SUELDOH)\n",
        "\n",
        "#Evaluar el sueldo\n",
        "\n",
        "if (HORAS <= 40):\n",
        "  PAGO = HORAS * SUELDOH\n",
        "  print(f\"El sueldo Final de {NOMBRE} es ${PAGO}\")\n",
        "\n",
        "elif (HORAS > 40 and HORAS <= 50):\n",
        "  EXTRASDOBLES = HORAS - 40\n",
        "  print(f\"Horas extra dobles: {EXTRASDOBLES}\")\n",
        "  PAGO = 40 * SUELDOH\n",
        "  print(f\"Sueldo base: ${PAGO}\")\n",
        "  PAGODOBLE = EXTRASDOBLES * SUELDOH * 2\n",
        "  print(f\"Pago de horas dobles: ${PAGODOBLE}\")\n",
        "  PAGOFINAL = PAGO + PAGODOBLE\n",
        "  print(f\"El sueldo final de {NOMBRE}, es ${PAGOFINAL}\")\n",
        "\n",
        "elif (HORAS > 50 and HORAS <= 60):\n",
        "  EXTRASTRIPLES = HORAS - 50\n",
        "  print(\"Horas extra dobles: 10\")\n",
        "  print(f\"Horas extra triples: {EXTRASTRIPLES}\")\n",
        "  PAGO = 40 * SUELDOH\n",
        "  print(f\"Sueldo base: ${PAGO}\")\n",
        "  PAGODOBLE = 10 * SUELDOH * 2\n",
        "  print(f\"Pago de horas extras dobles: {PAGODOBLE}\")\n",
        "  PAGOTRIPLE = EXTRASTRIPLES * SUELDOH * 3\n",
        "  print(f\"Pago de horas extra triples: {PAGOTRIPLE}\")\n",
        "  PAGOFINAL = PAGO + PAGODOBLE + PAGOTRIPLE\n",
        "  print(f\"El sueldo Final de {NOMBRE}, es ${PAGOFINAL}\")\n",
        "\n",
        "else:\n",
        "  EXTRASTRIPLES = 10\n",
        "  print(\"Horas extra dobles 10\\nHoras extra triples 10\")\n",
        "  PAGO = 40 * SUELDOH\n",
        "  print(f\"Sueldo Base ${PAGO}\")\n",
        "  PAGODOBLE = 10 * SUELDOH * 2\n",
        "  print(f\"Pago de horas extra dobles: {PAGODOBLE}\")\n",
        "  PAGOTRIPLE = EXTRASTRIPLES * SUELDOH * 3\n",
        "  print(f\"Pago de horas triples: {PAGOTRIPLE}\\nIncentivo por trabajar mas de 60 horas: $2000\")\n",
        "  PAGOFINAL = PAGO + PAGODOBLE + PAGOTRIPLE + 2000\n",
        "  print(f\"El sueldo final de {NOMBRE}, es ${PAGOFINAL}\")"
      ],
      "execution_count": 11,
      "outputs": [
        {
          "output_type": "stream",
          "text": [
            "Ingrese el nombre del trabajador\n",
            "Ana\n",
            "Cuantas horas trabajo esta semana Ana:\n",
            "65\n",
            "Cuanto se le paga por hora\n",
            "200\n",
            "Horas extra dobles 10\n",
            "Horas extra triples 10\n",
            "Sueldo Base $8000.0\n",
            "Pago de horas extra dobles: 4000.0\n",
            "Pago de horas triples: 6000.0\n",
            "Incentivopor tranajar mas de 60 horas: $2000\n",
            "El sueldo final de Ana, es $20000.0\n"
          ],
          "name": "stdout"
        }
      ]
    },
    {
      "cell_type": "code",
      "metadata": {
        "colab": {
          "base_uri": "https://localhost:8080/"
        },
        "id": "LqwvR-AqoVY6",
        "outputId": "3913223b-9ee1-4e73-fef5-d612b42eb5fb"
      },
      "source": [
        "#Estructura FOR \n",
        "\n",
        "#Ejemplo 1\n",
        "\n",
        "for ESTACIONES_AÑO in [\"primareva\", \"verano\", \"otoño\", \"invierno\"]: #in palabra reservada, elemento a recorrer\n",
        "  print(ESTACIONES_AÑO)\n",
        "\n",
        "#Variables que suelen formar parte de FOR son \"i\""
      ],
      "execution_count": 15,
      "outputs": [
        {
          "output_type": "stream",
          "text": [
            "primareva\n",
            "verano\n",
            "otoño\n",
            "invierno\n"
          ],
          "name": "stdout"
        }
      ]
    }
  ]
}