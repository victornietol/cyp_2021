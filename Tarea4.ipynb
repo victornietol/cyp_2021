{
  "nbformat": 4,
  "nbformat_minor": 0,
  "metadata": {
    "colab": {
      "name": "Tarea4.ipynb",
      "provenance": [],
      "authorship_tag": "ABX9TyOEWvBS55HZNS3f3goWrRnJ",
      "include_colab_link": true
    },
    "kernelspec": {
      "name": "python3",
      "display_name": "Python 3"
    }
  },
  "cells": [
    {
      "cell_type": "markdown",
      "metadata": {
        "id": "view-in-github",
        "colab_type": "text"
      },
      "source": [
        "<a href=\"https://colab.research.google.com/github/victornietol/cyp_2021/blob/main/Tarea4.ipynb\" target=\"_parent\"><img src=\"https://colab.research.google.com/assets/colab-badge.svg\" alt=\"Open In Colab\"/></a>"
      ]
    },
    {
      "cell_type": "code",
      "metadata": {
        "colab": {
          "base_uri": "https://localhost:8080/"
        },
        "id": "wIg0xUY3FxGa",
        "outputId": "8b834539-a43d-450a-b455-c09cf61a6d51"
      },
      "source": [
        "#Ejercicio 2.4\n",
        "\n",
        "SUE = 0.0\n",
        "NSUE = 0.0\n",
        "\n",
        "SUE = float(input(\"Ingrese el sueldo del trabajor: $\"))\n",
        "\n",
        "if (SUE < 1000):\n",
        "  NSUE = SUE * 1.15 \n",
        "  print(f\"\\nEl nuevo sueldo es de ${round(NSUE, 2)}\")\n",
        "\n",
        "else:\n",
        "  NSUE = SUE * 1.12 \n",
        "  print(f\"\\nEl nuevo sueldo es de ${round(NSUE, 2)}\")"
      ],
      "execution_count": null,
      "outputs": [
        {
          "output_type": "stream",
          "text": [
            "Ingrese el sueldo del trabajor: $1000\n",
            "\n",
            "El nuevo sueldo es de $1120.0\n"
          ],
          "name": "stdout"
        }
      ]
    },
    {
      "cell_type": "code",
      "metadata": {
        "colab": {
          "base_uri": "https://localhost:8080/"
        },
        "id": "Z7caqmJZJRZ8",
        "outputId": "6c99fdb3-3722-48ca-fa09-63718ceac032"
      },
      "source": [
        "#Ejercicio 2.8\n",
        "\n",
        "CAT = 0\n",
        "SUE = 0.0\n",
        "NSUE = 0.0\n",
        "\n",
        "CAT = int(input(\"Ingrese la categoria del trabajador: \"))\n",
        "\n",
        "if (CAT == 1):\n",
        "  SUE = float(input(\"Ingrese el sueldo del trabajador: $\"))\n",
        "  NSUE = SUE * 1.15\n",
        "  print(f\"\\nEl nuevo sueldo para el trabajador de la categoria {CAT}, es de ${round(NSUE, 2)}\")\n",
        "\n",
        "elif (CAT == 2):\n",
        "  SUE = float(input(\"Ingrese el sueldo del trabajador: $\"))\n",
        "  NSUE = SUE * 1.10\n",
        "  print(f\"\\nEl nuevo sueldo para el trabajador de la categoria {CAT}, es de ${round(NSUE, 2)}\")\n",
        "\n",
        "elif (CAT == 3):\n",
        "  SUE = float(input(\"Ingrese el sueldo del trabajador: $\"))\n",
        "  NSUE = SUE * 1.08\n",
        "  print(f\"\\nEl nuevo sueldo para el trabajador de la categoria {CAT}, es de ${round(NSUE, 2)}\")\n",
        "\n",
        "elif (CAT == 4):\n",
        "  SUE = float(input(\"Ingrese el sueldo del trabajador: $\"))\n",
        "  NSUE = SUE * 1.07 \n",
        "  print(f\"\\nEl nuevo sueldo para el trabajador de la categoria {CAT}, es de ${round(NSUE, 2)}\")\n",
        "\n",
        "else: \n",
        "  print(\"\\nNo es una categoria valida\")"
      ],
      "execution_count": null,
      "outputs": [
        {
          "output_type": "stream",
          "text": [
            "Ingrese la categoria del trabajador: 3\n",
            "Ingrese el sueldo del trabajador: $4100\n",
            "\n",
            "El nuevo sueldo para el trabajador de la categoria 3, es de $4428.0\n"
          ],
          "name": "stdout"
        }
      ]
    }
  ]
}