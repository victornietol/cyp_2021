{
  "nbformat": 4,
  "nbformat_minor": 0,
  "metadata": {
    "colab": {
      "name": "14_Enero_2021.ipynb",
      "provenance": [],
      "authorship_tag": "ABX9TyOFJwhzuqYZPveRGwpyjoAx",
      "include_colab_link": true
    },
    "kernelspec": {
      "name": "python3",
      "display_name": "Python 3"
    }
  },
  "cells": [
    {
      "cell_type": "markdown",
      "metadata": {
        "id": "view-in-github",
        "colab_type": "text"
      },
      "source": [
        "<a href=\"https://colab.research.google.com/github/victornietol/cyp_2021/blob/main/14_Enero_2021.ipynb\" target=\"_parent\"><img src=\"https://colab.research.google.com/assets/colab-badge.svg\" alt=\"Open In Colab\"/></a>"
      ]
    },
    {
      "cell_type": "markdown",
      "metadata": {
        "id": "iycWwFoM5Ndz"
      },
      "source": [
        "# Palabras reservadas de Python 3\r\n",
        "\r\n",
        "1. False\r\n",
        "1. None\r\n",
        "1. True\r\n",
        "1. and\r\n",
        "1. as\r\n",
        "1. assert\r\n",
        "1. break\r\n",
        "1. class\r\n",
        "1. continue\r\n",
        "1. def\r\n",
        "1. del\r\n",
        "1. elif\r\n",
        "1. else\r\n",
        "1. except\r\n",
        "1. finally\r\n",
        "1. for\r\n",
        "1. from\r\n",
        "1. global\r\n",
        "1. if\r\n",
        "1. import\r\n",
        "1. in\r\n",
        "1. is\r\n",
        "1. lambda\r\n",
        "1. nonlocal\r\n",
        "1. not\r\n",
        "1. or\r\n",
        "1. pass\r\n",
        "1. raise\r\n",
        "1. return\r\n",
        "1. try\r\n",
        "1. while\r\n",
        "1. with\r\n",
        "1. yield"
      ]
    },
    {
      "cell_type": "code",
      "metadata": {
        "colab": {
          "base_uri": "https://localhost:8080/"
        },
        "id": "dSHb9R5Z5ZB4",
        "outputId": "ebcc999c-0dbe-4873-acb6-c1158987b9a4"
      },
      "source": [
        "import keyword\r\n",
        "pr = keyword.kwlist\r\n",
        "print( len(pr))\r\n",
        "for palabra in pr:\r\n",
        "  print(\"1.\",palabra)"
      ],
      "execution_count": null,
      "outputs": [
        {
          "output_type": "stream",
          "text": [
            "33\n",
            "1. False\n",
            "1. None\n",
            "1. True\n",
            "1. and\n",
            "1. as\n",
            "1. assert\n",
            "1. break\n",
            "1. class\n",
            "1. continue\n",
            "1. def\n",
            "1. del\n",
            "1. elif\n",
            "1. else\n",
            "1. except\n",
            "1. finally\n",
            "1. for\n",
            "1. from\n",
            "1. global\n",
            "1. if\n",
            "1. import\n",
            "1. in\n",
            "1. is\n",
            "1. lambda\n",
            "1. nonlocal\n",
            "1. not\n",
            "1. or\n",
            "1. pass\n",
            "1. raise\n",
            "1. return\n",
            "1. try\n",
            "1. while\n",
            "1. with\n",
            "1. yield\n"
          ],
          "name": "stdout"
        }
      ]
    },
    {
      "cell_type": "markdown",
      "metadata": {
        "id": "cwSjlYJY61Zm"
      },
      "source": [
        "## Variable\r\n",
        "Es un espacio de memoria de la computadora para almacenar valores que cambian a lo lkargo de la ejecución del programa. Este espacio de memoria esta referenciado por un identificador, el cual tienen ciertas reglas de nombrado.\r\n",
        "- No puede iniciar con número\r\n",
        "- No debe ser igual a alguna de las palabras reservadas.\r\n",
        "- Puede iniciar con _\r\n",
        "- Evitar nombres de variables  largos\r\n",
        "- Evitar muy cortos, ejemplo: x, y, i\r\n",
        "- Usar notación snake_case"
      ]
    },
    {
      "cell_type": "code",
      "metadata": {
        "id": "dG1JiJnF8Cvg"
      },
      "source": [
        "_2edad = 12\r\n",
        "print(_2edad)\r\n",
        "\r\n",
        "\"\"\"\r\n",
        "No se puede usar una palabra reservada como identificador de variable:\r\n",
        "\r\n",
        "for = 12\r\n",
        "print(for)\r\n",
        "\"\"\""
      ],
      "execution_count": null,
      "outputs": []
    },
    {
      "cell_type": "code",
      "metadata": {
        "id": "aP_K3DVo8loy"
      },
      "source": [
        "\"\"\"\r\n",
        "La notación snake case consta de formar el identificadrode variable \r\n",
        "separando las paabras del mismo con un guión bajo.\r\n",
        "\r\n",
        "Se recomienda que los identificadores se escriban en minisculas para las variables \r\n",
        "y en mayúsculas para las constantes.\r\n",
        "\r\n",
        "Es decir, si tenemos una varaible para los días de la semana, se esceibiría a \r\n",
        "\r\n",
        "dias_de_la_semana = 7\r\n",
        "dias_mes = 31\r\n",
        "limite_maximo = 100\r\n",
        "\r\n",
        "\"\"\""
      ],
      "execution_count": null,
      "outputs": []
    },
    {
      "cell_type": "markdown",
      "metadata": {
        "id": "Wj7ZVoZQ94bK"
      },
      "source": [
        "# Tipos de datos\r\n",
        "- Numéricos\r\n",
        "  - int 4 bytes (1, 2, 23454. etc.)\r\n",
        "  - float 4 bytes (1.14 , 3.1416. 1.0)\r\n",
        "  - long 8 bytes (1, 2, 23433, etc)\r\n",
        "  - complex 3 + 2j (Rices negativas)\r\n",
        "- Boolean: True o False\r\n",
        "- String cadenas de caracteres (\"cad\" , 'cad' o \"\"\"cad\"\"\")\r\n",
        "- Listas ( [1,2,3,4] , [1,b,1,2,3])\r\n",
        "- Tuplas ( (edad,23) , (3,4) )\r\n",
        "- Conjuntos\r\n",
        "- Diccionarios ({\"nombre\":\"Juan\"})"
      ]
    },
    {
      "cell_type": "markdown",
      "metadata": {
        "id": "xtaZPf3FEAQI"
      },
      "source": [
        "# Tipo de dato String\r\n",
        "\r\n",
        "Este tipo de dato permite almacenar cadenas de caracteres, como por ejemplo: \r\n",
        "\r\n",
        "```\r\n",
        "nombre = 'Jesús'\r\n",
        "lugar_nacimiento = \"Mexico D.F., Tacuba\"\r\n",
        "frase_favorita = \"\"\"\r\n",
        "El conocimiento \r\n",
        "me persigue,\r\n",
        "pero ...\r\n",
        "yo soy más rápido!!!\r\n",
        ":)\r\n",
        "\"\"\"\r\n",
        "```"
      ]
    },
    {
      "cell_type": "code",
      "metadata": {
        "colab": {
          "base_uri": "https://localhost:8080/"
        },
        "id": "349pjDj4FFFF",
        "outputId": "d3097aa2-af28-42ca-9ec6-13c7d5a5efa6"
      },
      "source": [
        "nombre = 'Jesús'\r\n",
        "lugar_nacimiento = \"Mexico D.F., Tacuba\"\r\n",
        "frase_favorita = \"\"\"\r\n",
        "El conocimiento \r\n",
        "me persigue,\r\n",
        "pero ...\r\n",
        "yo soy más rápido!!!\r\n",
        ":)\r\n",
        "\"\"\"\r\n",
        "\r\n",
        "print(nombre)\r\n",
        "print(lugar_nacimiento)\r\n",
        "print(frase_favorita)"
      ],
      "execution_count": 5,
      "outputs": [
        {
          "output_type": "stream",
          "text": [
            "Jesús\n",
            "Mexico D.F., Tacuba\n",
            "\n",
            "El conocimiento \n",
            "me persigue,\n",
            "pero ...\n",
            "yo soy más rápido!!!\n",
            ":)\n",
            "\n"
          ],
          "name": "stdout"
        }
      ]
    },
    {
      "cell_type": "markdown",
      "metadata": {
        "id": "2_UWExIwFwNS"
      },
      "source": [
        "# String como arreglo\r\n",
        "Un string en python es almacenado como el tipo de dato (estructura de datos) arreglo.\r\n",
        "\r\n",
        "Por ejemplo la declaración:\r\n",
        "```\r\n",
        "nombre = 'Jesús'\r\n",
        "```\r\n",
        "El elemento 'J' es almacenado en un arreglo en la posición 0. \r\n",
        "La 'e' en la 1 y asi sucesivamente.\r\n",
        "\r\n",
        "### Selctor\r\n",
        "La notación para selecionar un elemnto del arreglo es:\r\n",
        "```\r\n",
        "[1]\r\n",
        "```\r\n",
        "Donde el valor interno debe ser un valor númerico entero.\r\n"
      ]
    },
    {
      "cell_type": "code",
      "metadata": {
        "colab": {
          "base_uri": "https://localhost:8080/"
        },
        "id": "HHwbiaZXGSR6",
        "outputId": "b6446a67-e445-4724-f277-ac94990cbfdc"
      },
      "source": [
        "nombre = 'Victor'\r\n",
        "print(len(nombre))\r\n",
        "print(nombre)\r\n",
        "print(nombre[0])\r\n",
        "print(nombre[3])"
      ],
      "execution_count": 7,
      "outputs": [
        {
          "output_type": "stream",
          "text": [
            "6\n",
            "Victor\n",
            "V\n",
            "t\n"
          ],
          "name": "stdout"
        }
      ]
    },
    {
      "cell_type": "markdown",
      "metadata": {
        "id": "8fYG4I7THRU9"
      },
      "source": [
        "# Iterar sobre un string\r\n",
        "\r\n",
        "Se puede iterar sobre un strin con un for de la forma:\r\n",
        "\r\n",
        "```\r\n",
        "for letra in range( len(nombre)):\r\n",
        "  print(letra)\r\n",
        "```"
      ]
    },
    {
      "cell_type": "code",
      "metadata": {
        "colab": {
          "base_uri": "https://localhost:8080/"
        },
        "id": "lkz4iIqqIWJ_",
        "outputId": "efd40663-282f-4d94-9c52-99d7d8a1ddc7"
      },
      "source": [
        "for indice in range( len(nombre)): # 0, 1, 2, 3, 4\r\n",
        "  print(indice , end=\" \")\r\n",
        "  print(nombre[indice])"
      ],
      "execution_count": 8,
      "outputs": [
        {
          "output_type": "stream",
          "text": [
            "0 V\n",
            "1 i\n",
            "2 c\n",
            "3 t\n",
            "4 o\n",
            "5 r\n"
          ],
          "name": "stdout"
        }
      ]
    },
    {
      "cell_type": "markdown",
      "metadata": {
        "id": "gAZe5SwLJ_Y7"
      },
      "source": [
        "# Función range(inicio, stop, incremento)\r\n",
        "\r\n",
        "El inicio  es opcional y por defecto tiene el valor 0\r\n",
        "\r\n",
        "El incremento tambien es opcional y por defecto es 1"
      ]
    },
    {
      "cell_type": "code",
      "metadata": {
        "colab": {
          "base_uri": "https://localhost:8080/"
        },
        "id": "9zkN1iF9JzYf",
        "outputId": "e2afc993-ea1c-47ce-c2ee-248bd7d06873"
      },
      "source": [
        "for indice in range(1, len(nombre) , 1):     # range(inicio , stop , incremento)\r\n",
        "  print(nombre[indice])"
      ],
      "execution_count": 9,
      "outputs": [
        {
          "output_type": "stream",
          "text": [
            "i\n",
            "c\n",
            "t\n",
            "o\n",
            "r\n"
          ],
          "name": "stdout"
        }
      ]
    },
    {
      "cell_type": "code",
      "metadata": {
        "colab": {
          "base_uri": "https://localhost:8080/"
        },
        "id": "xsv9sYG2K2na",
        "outputId": "d93e5afa-6ec9-4396-cb77-60e910ad2aef"
      },
      "source": [
        "for indice in range(5, -1 , -1):      # Para imprimirlo al revés (4, 3, 2, 1, 0)\r\n",
        "  print(nombre[indice])"
      ],
      "execution_count": 11,
      "outputs": [
        {
          "output_type": "stream",
          "text": [
            "r\n",
            "o\n",
            "t\n",
            "c\n",
            "i\n",
            "V\n"
          ],
          "name": "stdout"
        }
      ]
    },
    {
      "cell_type": "markdown",
      "metadata": {
        "id": "HN5dfZQeL6d0"
      },
      "source": [
        "#String e indexado negativo\r\n",
        "En python 3 se agrega una nueva caracteristica a los arreglos de las cadenas de caracteres, esta consta de la capacidad de indexar de forma negativa. \r\n",
        "\r\n",
        "La lógica es la siguiente. \r\n",
        "\r\n",
        "El último elemento se le considera como índice (ALTERNATIVO) -1, con lo cual se podría referenciar el final de la cadena sin la necesidad de saber el tamaño de la misma.\r\n",
        "\r\n",
        "```\r\n",
        "nombre = \"Victor\"\r\n",
        "\r\n",
        "indice normal  0  1  2  3  4  5 \r\n",
        "\r\n",
        "               V  i  c  t  o  r\r\n",
        "\r\n",
        "indice alter. -6 -5 -4 -3 -2 -1\r\n",
        "\r\n",
        "```"
      ]
    },
    {
      "cell_type": "code",
      "metadata": {
        "colab": {
          "base_uri": "https://localhost:8080/"
        },
        "id": "PKrtrZZ6Mi0d",
        "outputId": "9a223d8d-ec83-40f1-a4f4-66377a5fbf6e"
      },
      "source": [
        "nombre = \"Victor\"\r\n",
        "print(nombre[5])   # Indexado normal\r\n",
        "print(nombre[-1])  # Indexado alternativo (negativo) \r\n",
        "print(\"\")\r\n",
        "for indice_alter in range(-1, -7, -1):\r\n",
        "  print(nombre[indice_alter])"
      ],
      "execution_count": 16,
      "outputs": [
        {
          "output_type": "stream",
          "text": [
            "r\n",
            "r\n",
            "\n",
            "r\n",
            "o\n",
            "t\n",
            "c\n",
            "i\n",
            "V\n"
          ],
          "name": "stdout"
        }
      ]
    },
    {
      "cell_type": "markdown",
      "metadata": {
        "id": "DLYq9xMIQCw8"
      },
      "source": [
        "# Slicing de cadenas de caracteres.\r\n",
        "\r\n",
        "Esta caracteristica permite sacar cecciones de una cadena con la siguiente sintaxis:\r\n",
        "```\r\n",
        "[inicio : stop : incremento]\r\n",
        "```\r\n",
        "Donde inicio e incremento son opcionales y también soportan indexado alternativo (negativos)"
      ]
    },
    {
      "cell_type": "code",
      "metadata": {
        "colab": {
          "base_uri": "https://localhost:8080/"
        },
        "id": "s5iH217jQcqw",
        "outputId": "cd6c67f6-b2ad-4802-cf1e-84b44b1e7ad6"
      },
      "source": [
        "facultad = \"Facultad de Estudios Superiores Aragón (La mejor)\"\r\n",
        "\r\n",
        "print(facultad)\r\n",
        "\r\n",
        "for indice in range(12,20,1):\r\n",
        "  print(facultad[indice], end=\"\")\r\n",
        "\r\n",
        "# Hacer esto mismo con la caracteristica slicing se logra asi:\r\n",
        "print(\"\\n\\nCon slicing\")\r\n",
        "print(facultad[12:20:1])\r\n",
        "\r\n",
        "# La palabra 'de' con slicing\r\n",
        "print(f\"\\n{facultad[9:12:1]}\")\r\n",
        "\r\n",
        "# La frase '(La mejor)' con indexado alternativo y slicing\r\n",
        "print(f\"\\n{facultad[-10:-1:1]}\")"
      ],
      "execution_count": 60,
      "outputs": [
        {
          "output_type": "stream",
          "text": [
            "Facultad de Estudios Superiores Aragón (La mejor)\n",
            "Estudios\n",
            "\n",
            "Con slicing\n",
            "Estudios\n",
            "\n",
            "de \n",
            "\n",
            "(La mejor\n"
          ],
          "name": "stdout"
        }
      ]
    }
  ]
}