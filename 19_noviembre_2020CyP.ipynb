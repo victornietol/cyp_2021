{
  "nbformat": 4,
  "nbformat_minor": 0,
  "metadata": {
    "colab": {
      "name": "19_noviembre_2020CyP.ipynb",
      "provenance": [],
      "authorship_tag": "ABX9TyMN+h3vUKzJFM/JAT/6bfHA",
      "include_colab_link": true
    },
    "kernelspec": {
      "name": "python3",
      "display_name": "Python 3"
    }
  },
  "cells": [
    {
      "cell_type": "markdown",
      "metadata": {
        "id": "view-in-github",
        "colab_type": "text"
      },
      "source": [
        "<a href=\"https://colab.research.google.com/github/victornietol/cyp_2021/blob/main/19_noviembre_2020CyP.ipynb\" target=\"_parent\"><img src=\"https://colab.research.google.com/assets/colab-badge.svg\" alt=\"Open In Colab\"/></a>"
      ]
    },
    {
      "cell_type": "code",
      "metadata": {
        "colab": {
          "base_uri": "https://localhost:8080/"
        },
        "id": "_LNpMEG_hKZz",
        "outputId": "0ec9d538-2acf-405c-a51a-b8c11f4859b1"
      },
      "source": [
        "# Concepto de asignación \n",
        "I = 0 \n",
        "I = I + 1\n",
        "I = I + 1\n",
        "print(f\"I = { I } \")\n",
        "J = 5 ** 2 / 3\n",
        "print(f\"J = { J }\") "
      ],
      "execution_count": 4,
      "outputs": [
        {
          "output_type": "stream",
          "text": [
            "I = 2 \n",
            "J = 8.333333333333334\n"
          ],
          "name": "stdout"
        }
      ]
    },
    {
      "cell_type": "code",
      "metadata": {
        "colab": {
          "base_uri": "https://localhost:8080/"
        },
        "id": "oHpCUDGQmv6T",
        "outputId": "ba18c9a2-8664-4263-ed7b-a25c0ca8ea40"
      },
      "source": [
        "# Declaracion de variables (reservando memoria)\n",
        "A = 0\n",
        "B = 0 \n",
        "C = 0\n",
        "D = 0\n",
        "\n",
        "A = int(input (\"Dame un valor entero:\"))\n",
        "B = int(input (\"Dame un valor entero:\"))\n",
        "C = int(input (\"Dame un valor entero:\"))\n",
        "D = int(input (\"Dame un valor entero:\"))\n",
        "\n",
        "print(D)\n",
        "print(C)\n",
        "print(B)\n",
        "print(A)\n",
        "\n"
      ],
      "execution_count": 5,
      "outputs": [
        {
          "output_type": "stream",
          "text": [
            "Dame un valor entero:10\n",
            "Dame un valor entero:20\n",
            "Dame un valor entero:30\n",
            "Dame un valor entero:40\n",
            "40\n",
            "30\n",
            "20\n",
            "10\n"
          ],
          "name": "stdout"
        }
      ]
    },
    {
      "cell_type": "code",
      "metadata": {
        "colab": {
          "base_uri": "https://localhost:8080/"
        },
        "id": "0aXM9tggpQuV",
        "outputId": "710abbd8-ac71-48fb-cc27-3b72f865b78b"
      },
      "source": [
        "# Ejemplo 1.7\n",
        "A = 0\n",
        "B = 0\n",
        "RES = 0\n",
        "\n",
        "A = int(input(\"Ingresa un número entero:\"))\n",
        "B = int(input(\"Ingresa otro número entero:\"))\n",
        "RES = (A + B ) ** 2 / 3 \n",
        "print(RES)\n"
      ],
      "execution_count": 9,
      "outputs": [
        {
          "output_type": "stream",
          "text": [
            "Ingresa un número entero:14\n",
            "Ingresa otro número entero:-5\n",
            "27.0\n"
          ],
          "name": "stdout"
        }
      ]
    },
    {
      "cell_type": "code",
      "metadata": {
        "colab": {
          "base_uri": "https://localhost:8080/"
        },
        "id": "krNY8DdKsHs0",
        "outputId": "1ae337a1-57e9-4d50-9f87-7158077d3fa8"
      },
      "source": [
        "# Ejemplo 1.8\n",
        "\n",
        "MAT = 0\n",
        "CAL1 = 0\n",
        "CAL2 = 0\n",
        "CAL3 = 0\n",
        "CAL4 = 0\n",
        "CAL5 = 0\n",
        "PRO = 0.0\n",
        "\n",
        "MAT = int(input(\"Ingresa la matricula: \"))\n",
        "CAL1 = float(input(\"Ingresa la calificacion 1: \"))\n",
        "CAL2 = float(input(\"Ingresa la calificacion 2: \"))\n",
        "CAL3 = float(input(\"Ingresa la calificacion 3: \"))\n",
        "CAL4 = float(input(\"Ingresa la calificacion 4: \"))\n",
        "CAL5 = float(input(\"Ingresa la calificacion 5: \"))\n",
        "\n",
        "PRO = (CAL1 + CAL2 + CAL3 + CAL4 + CAL5) / 5\n",
        "\n",
        "print(\"Matricula: \", MAT, \" , \", \"Promedio: \", PRO)"
      ],
      "execution_count": 13,
      "outputs": [
        {
          "output_type": "stream",
          "text": [
            "Ingresa la matricula: 16500\n",
            "Ingresa la calificacion 1: 8\n",
            "Ingresa la calificacion 2: 8.5\n",
            "Ingresa la calificacion 3: 9\n",
            "Ingresa la calificacion 4: 7\n",
            "Ingresa la calificacion 5: 6\n",
            "Matricula:  16500  ,  Promedio:  7.7\n"
          ],
          "name": "stdout"
        }
      ]
    },
    {
      "cell_type": "code",
      "metadata": {
        "colab": {
          "base_uri": "https://localhost:8080/"
        },
        "id": "8mHTkgCixqJy",
        "outputId": "ccf90354-3cd2-4648-eb54-3c814c40d2d4"
      },
      "source": [
        "# Ejemplo 1.9\n",
        "\n",
        "NUM = 0\n",
        "CUA = 0\n",
        "CUB = 0\n",
        "\n",
        "NUM = int(input(\"Ingresa el número: \"))\n",
        "CUA = NUM ** 2 \n",
        "CUB = NUM ** 3 \n",
        "\n",
        "print(NUM, \" al cuadrado es \",CUA)\n",
        "print(NUM, \" al cubo es \",CUB)"
      ],
      "execution_count": 18,
      "outputs": [
        {
          "output_type": "stream",
          "text": [
            "Ingresa el número: 2\n",
            "2  al cuadrado es  4\n",
            "2  al cubo es  8\n"
          ],
          "name": "stdout"
        }
      ]
    },
    {
      "cell_type": "code",
      "metadata": {
        "colab": {
          "base_uri": "https://localhost:8080/"
        },
        "id": "1lP22ADS0ArF",
        "outputId": "856452eb-5795-43ef-825d-0de204e3bbed"
      },
      "source": [
        "# Ejemplo 1.10\n",
        "\n",
        "BASE = 0\n",
        "ALTURA = 0\n",
        "SUP = 0\n",
        "PER= 0\n",
        "\n",
        "BASE = float(input(\"Ingresa el valor de la base: \"))\n",
        "ALTURA = float(input(\"Ingresa el valor de la altura: \"))\n",
        "SUP = (BASE * ALTURA)\n",
        "PER = (BASE + ALTURA) * 2\n",
        "\n",
        "print(\" \")\n",
        "print(\"La superficie es igual a \",SUP)\n",
        "print(\"El perimetro es igual a \",PER)\n"
      ],
      "execution_count": 23,
      "outputs": [
        {
          "output_type": "stream",
          "text": [
            "Ingresa el valor de la base: 10\n",
            "Ingresa el valor de la altura: 5\n",
            " \n",
            "La superficie es igual a  50.0\n",
            "El perimetro es igual a  30.0\n"
          ],
          "name": "stdout"
        }
      ]
    }
  ]
}