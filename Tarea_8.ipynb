{
  "nbformat": 4,
  "nbformat_minor": 0,
  "metadata": {
    "colab": {
      "name": "Tarea_8.ipynb",
      "provenance": [],
      "authorship_tag": "ABX9TyN7jzDodb7QJ5d9JTC27xY2",
      "include_colab_link": true
    },
    "kernelspec": {
      "name": "python3",
      "display_name": "Python 3"
    }
  },
  "cells": [
    {
      "cell_type": "markdown",
      "metadata": {
        "id": "view-in-github",
        "colab_type": "text"
      },
      "source": [
        "<a href=\"https://colab.research.google.com/github/victornietol/cyp_2021/blob/main/Tarea_8.ipynb\" target=\"_parent\"><img src=\"https://colab.research.google.com/assets/colab-badge.svg\" alt=\"Open In Colab\"/></a>"
      ]
    },
    {
      "cell_type": "code",
      "metadata": {
        "colab": {
          "base_uri": "https://localhost:8080/"
        },
        "id": "mc3RVgauEMnz",
        "outputId": "236bdacb-2d5e-4609-d4bc-7e5bce0d72b6"
      },
      "source": [
        "print(\"\\u256C\\u2550\\u2550\\u2550\\u2550\\u2550\\u2550\\u2550\\u2550\\u2550\\u2550\\u2550\\u2550\\u2550\\u2550\\u2550\\u2550\\u2550\\u2550\\u2550\\u2550\\u2550\\u2550\\u2550\\u2550\\u2550\\u2550\\u2550\\u2550\\u2550\\u2550\\u2550\\u2550\\u2550\\u2550\\u2550\\u2550\\u2550\\u2550\\u2550\\u2550\\u2550\\u2550\\u2550\\u2550\\u2550\\u2550\\u2550\\u2550\\u2550\\u2550\\u2550\\u2550\\u2550\\u2550\\u2550\\u2550\\u2550\\u2550\\u2550\\u2550\\u2550\\u2550\\u2550\\u256C\")\r\n",
        "print(\"\\u2551\\t\\t\\t\\t\\t\\t\\t\\t\\u2551\")\r\n",
        "print(\"\\u2551\\t\\t\\t\\t\\t\\t\\t\\t\\u2551\")\r\n",
        "print(\"\\u2551\\t\\u26D4\\u26AA\\u26D4\\u26AA\\u26D4\\u26AA\\u26D4\\u26D4\\u26D4\\u26AA\\u26D4\\u26D4\\u26D4\\u26AA\\u26D4\\u26D4\\u26D4\\u26AA\\u26D4\\u26D4\\u26D4\\t\\u2551\")\r\n",
        "print(\"\\u2551\\t\\u26D4\\u26AA\\u26D4\\u26AA\\u26D4\\u26AA\\u26D4\\u26AA\\u26AA\\u26AA\\u26AA\\u26D4\\u26AA\\u26AA\\u26D4\\u26AA\\u26D4\\u26AA\\u26D4\\u26AA\\u26D4\\t\\u2551\")\r\n",
        "print(\"\\u2551\\t\\u26D4\\u26AA\\u26D4\\u26AA\\u26D4\\u26AA\\u26D4\\u26AA\\u26AA\\u26AA\\u26AA\\u26D4\\u26AA\\u26AA\\u26D4\\u26AA\\u26D4\\u26AA\\u26D4\\u26D4\\u26AA\\t\\u2551\")\r\n",
        "print(\"\\u2551\\t\\u26D4\\u26AA\\u26D4\\u26AA\\u26D4\\u26AA\\u26D4\\u26AA\\u26AA\\u26AA\\u26AA\\u26D4\\u26AA\\u26AA\\u26D4\\u26AA\\u26D4\\u26AA\\u26D4\\u26AA\\u26D4\\t\\u2551\")\r\n",
        "print(\"\\u2551\\t\\u26AA\\u26D4\\u26AA\\u26AA\\u26D4\\u26AA\\u26D4\\u26D4\\u26D4\\u26AA\\u26AA\\u26D4\\u26AA\\u26AA\\u26D4\\u26D4\\u26D4\\u26AA\\u26D4\\u26AA\\u26D4\\t\\u2551\")\r\n",
        "print(\"\\u2551\\t\\t\\t\\t\\t\\t\\t\\t\\u2551\")\r\n",
        "print(\"\\u2551\\t\\t\\t\\t\\t\\t\\t\\t\\u2551\")\r\n",
        "print(\"\\u256C\\u2550\\u2550\\u2550\\u2550\\u2550\\u2550\\u2550\\u2550\\u2550\\u2550\\u2550\\u2550\\u2550\\u2550\\u2550\\u2550\\u2550\\u2550\\u2550\\u2550\\u2550\\u2550\\u2550\\u2550\\u2550\\u2550\\u2550\\u2550\\u2550\\u2550\\u2550\\u2550\\u2550\\u2550\\u2550\\u2550\\u2550\\u2550\\u2550\\u2550\\u2550\\u2550\\u2550\\u2550\\u2550\\u2550\\u2550\\u2550\\u2550\\u2550\\u2550\\u2550\\u2550\\u2550\\u2550\\u2550\\u2550\\u2550\\u2550\\u2550\\u2550\\u2550\\u2550\\u256C\")"
      ],
      "execution_count": 227,
      "outputs": [
        {
          "output_type": "stream",
          "text": [
            "╬═══════════════════════════════════════════════════════════════╬\n",
            "║\t\t\t\t\t\t\t\t║\n",
            "║\t\t\t\t\t\t\t\t║\n",
            "║\t⛔⚪⛔⚪⛔⚪⛔⛔⛔⚪⛔⛔⛔⚪⛔⛔⛔⚪⛔⛔⛔\t║\n",
            "║\t⛔⚪⛔⚪⛔⚪⛔⚪⚪⚪⚪⛔⚪⚪⛔⚪⛔⚪⛔⚪⛔\t║\n",
            "║\t⛔⚪⛔⚪⛔⚪⛔⚪⚪⚪⚪⛔⚪⚪⛔⚪⛔⚪⛔⛔⚪\t║\n",
            "║\t⛔⚪⛔⚪⛔⚪⛔⚪⚪⚪⚪⛔⚪⚪⛔⚪⛔⚪⛔⚪⛔\t║\n",
            "║\t⚪⛔⚪⚪⛔⚪⛔⛔⛔⚪⚪⛔⚪⚪⛔⛔⛔⚪⛔⚪⛔\t║\n",
            "║\t\t\t\t\t\t\t\t║\n",
            "║\t\t\t\t\t\t\t\t║\n",
            "╬═══════════════════════════════════════════════════════════════╬\n"
          ],
          "name": "stdout"
        }
      ]
    }
  ]
}