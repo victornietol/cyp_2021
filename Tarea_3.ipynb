{
  "nbformat": 4,
  "nbformat_minor": 0,
  "metadata": {
    "colab": {
      "name": "Tarea_3.ipynb",
      "provenance": [],
      "authorship_tag": "ABX9TyNjBiMqaZiN4sSR5Xa6nHly",
      "include_colab_link": true
    },
    "kernelspec": {
      "name": "python3",
      "display_name": "Python 3"
    }
  },
  "cells": [
    {
      "cell_type": "markdown",
      "metadata": {
        "id": "view-in-github",
        "colab_type": "text"
      },
      "source": [
        "<a href=\"https://colab.research.google.com/github/victornietol/cyp_2021/blob/main/Tarea_3.ipynb\" target=\"_parent\"><img src=\"https://colab.research.google.com/assets/colab-badge.svg\" alt=\"Open In Colab\"/></a>"
      ]
    },
    {
      "cell_type": "code",
      "metadata": {
        "colab": {
          "base_uri": "https://localhost:8080/"
        },
        "id": "OnqCRzx97Vnr",
        "outputId": "79a323c6-7951-4ddb-9cdb-b021c11d8a9f"
      },
      "source": [
        "#Problema 1.1\n",
        "\n",
        "PRODUCTO = 0.0\n",
        "PAGO = 0.0\n",
        "CAMBIO = 0.0 \n",
        "\n",
        "PRODUCTO = float(input(\"Ingrese el costo del producto: \"))\n",
        "PAGO = float(input(\"Ingrese el la cantidad del pago: \"))\n",
        "CAMBIO = (PAGO - PRODUCTO) \n",
        "print(\" \")\n",
        "print(f\"El cambio es {CAMBIO}\")"
      ],
      "execution_count": null,
      "outputs": [
        {
          "output_type": "stream",
          "text": [
            "Ingrese el costo del producto: 49.20\n",
            "Ingrese el la cantidad del pago: 100\n",
            " \n",
            "El cambio es 50.8\n"
          ],
          "name": "stdout"
        }
      ]
    },
    {
      "cell_type": "code",
      "metadata": {
        "colab": {
          "base_uri": "https://localhost:8080/"
        },
        "id": "mdAKhutt_onF",
        "outputId": "a6e30ce8-c954-4c5d-afc2-6007402c68a9"
      },
      "source": [
        "#Problema 1.2\n",
        "\n",
        "BASE = 0.0\n",
        "ALTURA = 0.0\n",
        "AREA = 0.0\n",
        "\n",
        "BASE = float(input(\"Ingrese el valor de la base: \"))\n",
        "ALTURA = float(input(\"Ingrese el valor de la altura: \"))\n",
        "AREA = (BASE * ALTURA) / 2 \n",
        "\n",
        "print(f\"EL área del triangulo es {AREA}\")  "
      ],
      "execution_count": null,
      "outputs": [
        {
          "output_type": "stream",
          "text": [
            "Ingrese el valor de la base: 11.60\n",
            "Ingrese el valor de la altura: 7.40\n",
            "EL área del triangulo es 42.92\n"
          ],
          "name": "stdout"
        }
      ]
    },
    {
      "cell_type": "code",
      "metadata": {
        "colab": {
          "base_uri": "https://localhost:8080/"
        },
        "id": "L5yPBtGuBQOf",
        "outputId": "24f7023a-50d8-4e92-c21b-e4f48a146b15"
      },
      "source": [
        "#Problema 1.3\n",
        "\n",
        "NOM = 0\n",
        "PESO = 0.0\n",
        "LONG = 0.0\n",
        "PESO_KG = 0.0\n",
        "LONG_M = 0.0\n",
        "\n",
        "NOM = input(\"Ingresa el nombre del dinosaurio: \")\n",
        "PESO = float(input(\"Ingresa el peso del dinosaurio en toneladas: \"))\n",
        "LONG = float(input(\"Ingresa la longitud del dinosaurio en pies: \"))\n",
        "PESO_KG = PESO * 1000     # 1 tonelada equivale a 1000 kg\n",
        "LONG_M = LONG * 0.3047    # 1 pie equivale a 0.3047 metros\n",
        "\n",
        "print(\" \")\n",
        "print(f\"El peso de un {NOM} es de {PESO_KG} kg, y su longitud es de {round(LONG_M, 2)} m\")"
      ],
      "execution_count": null,
      "outputs": [
        {
          "output_type": "stream",
          "text": [
            "Ingresa el nombre del dinosaurio: TYRANNOSAURUS\n",
            "Ingresa el peso del dinosaurio en toneladas: 8\n",
            "Ingresa la longitud del dinosaurio en pies: 30\n",
            " \n",
            "El peso de un TYRANNOSAURUS es de 8000.0 kg, y su longitud es de 9.14 m\n"
          ],
          "name": "stdout"
        }
      ]
    },
    {
      "cell_type": "code",
      "metadata": {
        "colab": {
          "base_uri": "https://localhost:8080/"
        },
        "id": "aAPuC2Y8Fobl",
        "outputId": "fdc94616-06ae-48a2-99be-65825c38dc72"
      },
      "source": [
        "#Problema 1.4\n",
        "\n",
        "GAL = 0.0\n",
        "TOTAL = 0.0\n",
        "LITROS  = 0.0\n",
        "\n",
        "GAL = float(input(\"Ingresa la cantidad de gasolina en galones: \"))\n",
        "LITROS = GAL * 3.785 \n",
        "TOTAL = LITROS * 8.20\n",
        "\n",
        "print(\" \")\n",
        "print(f\"El total a pagar por {GAL} galones es ${round(TOTAL, 2)}\")"
      ],
      "execution_count": null,
      "outputs": [
        {
          "output_type": "stream",
          "text": [
            "Ingresa la cantidad de gasolina en galones: 19.90\n",
            " \n",
            "El total a pagar por 19.9 galones es $617.64\n"
          ],
          "name": "stdout"
        }
      ]
    },
    {
      "cell_type": "code",
      "metadata": {
        "colab": {
          "base_uri": "https://localhost:8080/"
        },
        "id": "Qvna1hbHKP31",
        "outputId": "3cc7ed54-54a8-4050-c7d8-fc1f80eefebd"
      },
      "source": [
        "#Problema 1.5\n",
        "\n",
        "RADIO = 0.0\n",
        "ALTURA = 0.0\n",
        "AREA = 0.0\n",
        "VOLUMEN = 0.0\n",
        "PI = 3.141592\n",
        "\n",
        "RADIO = float(input(\"Ingrese el valor del radio: \"))\n",
        "ALTURA = float(input(\"Ingrese el valor  de la altura: \"))\n",
        "AREA = 2 * PI * RADIO * ALTURA \n",
        "VOLUMEN = PI * (RADIO **  2) * ALTURA \n",
        "\n",
        "print(\" \")\n",
        "print(f\"EL área es {round(AREA, 2)}, y el volumen es {round(VOLUMEN, 2)}\")"
      ],
      "execution_count": null,
      "outputs": [
        {
          "output_type": "stream",
          "text": [
            "Ingrese el valor del radio: 85.90\n",
            "Ingrese el valor  de la altura: 237.20\n",
            " \n",
            "EL área es 128022.89, y el volumen es 5498583.12\n"
          ],
          "name": "stdout"
        }
      ]
    },
    {
      "cell_type": "code",
      "metadata": {
        "colab": {
          "base_uri": "https://localhost:8080/"
        },
        "id": "_PBuOGThdEbQ",
        "outputId": "4cbc5a3d-8283-43a5-b0cd-3c25789c94b8"
      },
      "source": [
        "#Problema 1.6\n",
        "\n",
        "DIAS = 0\n",
        "SEGUNDOS = 0.0\n",
        "\n",
        "DIAS = int(input(\"Ingrese el número de días: \"))\n",
        "SEGUNDOS = DIAS * 24 * 60 * 60 \n",
        "\n",
        "print(\" \")\n",
        "print(f\"En {DIAS} días hay {SEGUNDOS} segundos\")"
      ],
      "execution_count": null,
      "outputs": [
        {
          "output_type": "stream",
          "text": [
            "Ingrese el número de días: 3\n",
            " \n",
            "En 3 días hay 259200 segundos\n"
          ],
          "name": "stdout"
        }
      ]
    }
  ]
}