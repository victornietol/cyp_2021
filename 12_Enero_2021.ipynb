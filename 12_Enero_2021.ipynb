{
  "nbformat": 4,
  "nbformat_minor": 0,
  "metadata": {
    "colab": {
      "name": "12_Enero_2021.ipynb",
      "provenance": [],
      "authorship_tag": "ABX9TyN60zGbM22JSnOuoDZRi404",
      "include_colab_link": true
    },
    "kernelspec": {
      "name": "python3",
      "display_name": "Python 3"
    }
  },
  "cells": [
    {
      "cell_type": "markdown",
      "metadata": {
        "id": "view-in-github",
        "colab_type": "text"
      },
      "source": [
        "<a href=\"https://colab.research.google.com/github/victornietol/cyp_2021/blob/main/12_Enero_2021.ipynb\" target=\"_parent\"><img src=\"https://colab.research.google.com/assets/colab-badge.svg\" alt=\"Open In Colab\"/></a>"
      ]
    },
    {
      "cell_type": "markdown",
      "metadata": {
        "id": "BuaJn25_pTx9"
      },
      "source": [
        "# Introduccion a Python \r\n",
        "- Creado en los 90's por Guido Van R.\r\n",
        "- En el 2000 python mejora y tiene nuevas caracteristicas.\r\n",
        "- En el 2020 deja de ser la versión oficial python 2.7 y solo se le dará soporte a python 3 en adelante.\r\n",
        "## Caracterisitcas de Python\r\n",
        "1. Lenguaje de propósito general.\r\n",
        "2. Interpretado y no-compilado.\r\n",
        "3. Tipo de datos dinámicos. (Numericos, cadena, bool, entre otros).\r\n",
        "4. Multiplataforma.\r\n",
        "5. Lenguaje Multi-paradigma. (Forma Imperativa, POO y funcional)\r\n",
        "6. Código es estructurado por indentación.\r\n",
        "\r\n",
        "```\r\n",
        "if a > 10:\r\n",
        " print(\"Hola\")\r\n",
        "print(\"Hola dos\")\r\n",
        "```\r\n",
        "\r\n",
        "## Principios Zen de python\r\n",
        "\r\n",
        "Son las caracteristicas que guian el diseño del lenguaje de programación Python.\r\n",
        "\r\n"
      ]
    },
    {
      "cell_type": "code",
      "metadata": {
        "colab": {
          "base_uri": "https://localhost:8080/"
        },
        "id": "d7fqrpg8umrK",
        "outputId": "c9fd990a-6bd1-453b-f6fc-2c343697fb03"
      },
      "source": [
        "#Primer programa en Python 3\r\n",
        "\r\n",
        "NOMBRE = \"Alma Marcela\"\r\n",
        "EDAD = 50\r\n",
        "print(\"Hola\" , NOMBRE , EDAD)"
      ],
      "execution_count": 37,
      "outputs": [
        {
          "output_type": "stream",
          "text": [
            "Hola Alma Marcela 50\n"
          ],
          "name": "stdout"
        }
      ]
    },
    {
      "cell_type": "markdown",
      "metadata": {
        "id": "DWbULeABvn4a"
      },
      "source": [
        "# La función print()\r\n",
        "\r\n",
        "Es una de las funciones mas empleadas en programación y busca envíar datos a la salida estandar (monitor).\r\n",
        "\r\n",
        "### Formas de uso\r\n",
        "1. Con comas\r\n",
        "1. Con signos +\r\n",
        "1. .format()\r\n",
        "1. el operador f\" \"\r\n",
        "\r\n",
        "#### Con comas\r\n",
        "Concatena los argumentos enviados a print y les agrega un espacio.\r\n",
        "\r\n",
        "#### Con signos +\r\n",
        "Concatena los valores sin espacio y sin hacer conversión de tipos.\r\n",
        "\r\n",
        "#### Con la función format()\r\n",
        "Permite darle formato a la salida de la impresión de varables. Emplea la función format de el tipo de dato strig.\r\n",
        "```\r\n",
        "\" cadena {} a {} forma{}tear \".format(v1,v2,v3)\r\n",
        "```\r\n",
        "Emplea como comodines para sustituir valores los signos {}.\r\n",
        "\r\n",
        "#### Con el operador f\"\r\n",
        "\r\n",
        "Es una variante de la forma anterior pero enmascarando la función format().\r\n",
        "\r\n",
        "print(f\" sdfs{var1} dfsf{var2} dsfsd{var3}\")"
      ]
    },
    {
      "cell_type": "code",
      "metadata": {
        "colab": {
          "base_uri": "https://localhost:8080/"
        },
        "id": "u1KCRSeXwg32",
        "outputId": "f73bb123-6ad9-4fd5-f635-cc3368b1d6f0"
      },
      "source": [
        "print(\"Hola\" , NOMBRE , EDAD )\r\n",
        "print(\"Hola \" + NOMBRE + \" \" + str(EDAD))\r\n",
        "# Nombre: José con una edad de: 18 años.\r\n",
        "print(\"Nombre:\", NOMBRE, \"con una edad de:\" , EDAD , \"años\")\r\n",
        "print(\"Nombre: \" + NOMBRE + \" con una edad de: \" + str(EDAD) + \" años\")\r\n",
        "# Con format()\r\n",
        "print(\"Nombre: {0} con una edad de: {1} años\".format(NOMBRE,EDAD))\r\n",
        "#Con el operador f\"\"\r\n",
        "print(f\"Nombre: {NOMBRE} con una edad de: {EDAD} años.\")"
      ],
      "execution_count": 38,
      "outputs": [
        {
          "output_type": "stream",
          "text": [
            "Hola Alma Marcela 50\n",
            "Hola Alma Marcela 50\n",
            "Nombre: Alma Marcela con una edad de: 50 años\n",
            "Nombre: Alma Marcela con una edad de: 50 años\n",
            "Nombre: Alma Marcela con una edad de: 50 años\n",
            "Nombre: Alma Marcela con una edad de: 50 años.\n"
          ],
          "name": "stdout"
        }
      ]
    },
    {
      "cell_type": "markdown",
      "metadata": {
        "id": "sGjmlF_-2MPs"
      },
      "source": [
        "# Función print() y los caracteres de escape.\r\n",
        "- \\n Salto de línea\r\n",
        "- \\t Tabulador\r\n",
        "- \\\\ Imprimir la diagonal \\\r\n",
        "- \\' y \\\"\r\n",
        "- \\uxxxx\r\n",
        "- \\uxxxxxxxx"
      ]
    },
    {
      "cell_type": "code",
      "metadata": {
        "colab": {
          "base_uri": "https://localhost:8080/"
        },
        "id": "8hSbDUdo2hzZ",
        "outputId": "c2de7aa7-486d-4c0a-df26-36a2d4064787"
      },
      "source": [
        "print('\"')\r\n",
        "print(\"\\\"\")   #Forma general\r\n",
        "print(\"Nombre: Alma Marcela\\n\\tcon una \\\\edad de: 50 años.\")\r\n",
        "#Caracteres unicode\r\n",
        "\r\n",
        "print(\"Hola \\u2618\")"
      ],
      "execution_count": 39,
      "outputs": [
        {
          "output_type": "stream",
          "text": [
            "\"\n",
            "\"\n",
            "Nombre: Alma Marcela\n",
            "\tcon una \\edad de: 50 años.\n",
            "Hola ☘\n"
          ],
          "name": "stdout"
        }
      ]
    },
    {
      "cell_type": "markdown",
      "metadata": {
        "id": "Uq9UK5W18C-c"
      },
      "source": [
        "# Print y salto de línea en el argumento. \r\n",
        "\r\n",
        "print([lista de variables] , end=\"\\n\")"
      ]
    },
    {
      "cell_type": "code",
      "metadata": {
        "colab": {
          "base_uri": "https://localhost:8080/"
        },
        "id": "ATBWfSRU8U-_",
        "outputId": "5564917f-7506-4fe6-821d-3b32322ef040"
      },
      "source": [
        "print(\"Hola \" , end=\"\")\r\n",
        "print(\"Mundo \" , end=\"\\u13CD\")\r\n",
        "print(\"Fin\" , end=\"\\n\")"
      ],
      "execution_count": 29,
      "outputs": [
        {
          "output_type": "stream",
          "text": [
            "Hola Mundo ᏍFin\n"
          ],
          "name": "stdout"
        }
      ]
    },
    {
      "cell_type": "markdown",
      "metadata": {
        "id": "fBmCWxjH9mgw"
      },
      "source": [
        "# Comentario en Python.\r\n",
        "Un comentario en programación, es un texto especial que es ignorado por el interprete o compilador (Según sea el caso) y es empleado para que el programador documente sus algoritmos.\r\n",
        "Existen de dos tipos: De linea simple y de múltiple línea.\r\n",
        "\r\n",
        "En python.\r\n",
        "- Línea simple emplea # \r\n",
        "```\r\n",
        "# Comentario de línea simple\r\n",
        "```\r\n",
        "- Línea múltiple\r\n",
        "```\r\n",
        "\"\"\"\r\n",
        "Esto es un comentario de línea multiple\r\n",
        "\"\"\"\r\n",
        "```"
      ]
    },
    {
      "cell_type": "code",
      "metadata": {
        "colab": {
          "base_uri": "https://localhost:8080/"
        },
        "id": "BWH4CQEe-ics",
        "outputId": "f7350845-6d3f-455e-e216-399c3ad17109"
      },
      "source": [
        "print(\"Hola\")\r\n",
        "# print(\"Hola\")\r\n",
        "# cualquier cosa\r\n",
        "print(\"Hola\")\r\n",
        "print(\"Hola\") # esta línea imprime hols\r\n",
        "print(\"Hola\")\r\n",
        "print(\"Hola\")\r\n",
        "\r\n",
        "\"\"\"\r\n",
        "esto es un comentario de múltiple linea. Ideal para cuando se desea explicar algo a fondo que requiera mayor detalle.\r\n",
        "\"\"\"\r\n",
        "print(\"Hola\")\r\n",
        "print(\"Hola\")"
      ],
      "execution_count": 30,
      "outputs": [
        {
          "output_type": "stream",
          "text": [
            "Hola\n",
            "Hola\n",
            "Hola\n",
            "Hola\n",
            "Hola\n",
            "Hola\n",
            "Hola\n"
          ],
          "name": "stdout"
        }
      ]
    }
  ]
}