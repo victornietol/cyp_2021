{
  "nbformat": 4,
  "nbformat_minor": 0,
  "metadata": {
    "colab": {
      "name": "Tarea_7.ipynb",
      "provenance": [],
      "authorship_tag": "ABX9TyN24/xcEdjYAg6H5QjY4C8o",
      "include_colab_link": true
    },
    "kernelspec": {
      "name": "python3",
      "display_name": "Python 3"
    }
  },
  "cells": [
    {
      "cell_type": "markdown",
      "metadata": {
        "id": "view-in-github",
        "colab_type": "text"
      },
      "source": [
        "<a href=\"https://colab.research.google.com/github/victornietol/cyp_2021/blob/main/Tarea_7.ipynb\" target=\"_parent\"><img src=\"https://colab.research.google.com/assets/colab-badge.svg\" alt=\"Open In Colab\"/></a>"
      ]
    },
    {
      "cell_type": "code",
      "metadata": {
        "id": "9e5m2v6kmx7u",
        "colab": {
          "base_uri": "https://localhost:8080/"
        },
        "outputId": "6b970094-d7ba-45ba-9cac-e3d9f9a100d4"
      },
      "source": [
        "#Problema 4.11\r\n",
        "\r\n",
        "TPS = int(input(\"Ingresa el total de países del Sudamérica: \"))\r\n",
        "TPC = int(input(\"Ingresa el total de países del Centroamérica: \"))\r\n",
        "TPN = int(input(\"Ingresa el total de países del Norteamérica: \"))\r\n",
        "\r\n",
        "if (1 <= TPS <= 30) and (1 <= TPC <= 30) and ( 1 <= TPN <= 30):\r\n",
        "  TP = TPS + TPC + TPN\r\n",
        "  print(\"\\nA continuación ingrese los nombres de los países de Sudamerica\")\r\n",
        "  I = 1\r\n",
        "  SUR = [0 for x in range(TPS+1)]\r\n",
        "  while I <= TPS:\r\n",
        "    SUR[I] = input(f\"Ingrese el nombre del país {I}: \")\r\n",
        "    I += 1\r\n",
        "  print(\"\\nA continuación ingrese los nombres de los países de Centroamérica\")\r\n",
        "  I = 1\r\n",
        "  CENTRO = [0 for x in range(TPC+1)]\r\n",
        "  while I <= TPC:\r\n",
        "    CENTRO [I] = input(f\"Ingresa el nombre del país {I}: \")\r\n",
        "    I += 1\r\n",
        "  print(\"\\nA continuación ingrese los nombres de los países de Norteamérica\")\r\n",
        "  I = 1\r\n",
        "  NORTE = [0 for x in range(TPN+1)]\r\n",
        "  while I <= TPN:\r\n",
        "    NORTE [I] = input(f\"Ingresa el nombre del país {I}: \")\r\n",
        "    I += 1\r\n",
        "  PS = 1\r\n",
        "  PC = 1\r\n",
        "  PN = 1\r\n",
        "  PA = 0\r\n",
        "  AMERICA = [0 for x in range(TP+1)]\r\n",
        "  while (PS <= TPS) and (PC <= TPC) and (PN <= TPN):\r\n",
        "    PA += 1\r\n",
        "    if (SUR[PS] < CENTRO[PC]) and (SUR[PS] < NORTE[PN]):\r\n",
        "      AMERICA[PA] = SUR[PS]\r\n",
        "      PS += 1\r\n",
        "    elif CENTRO[PC] < NORTE[PN]:\r\n",
        "      AMERICA[PA] = CENTRO[PC]\r\n",
        "      PC += 1\r\n",
        "    else:\r\n",
        "      AMERICA[PA] = NORTE[PN]\r\n",
        "      PN += 1\r\n",
        "  while PS <= TPS and PC <= TPC:\r\n",
        "    PA += 1\r\n",
        "    if SUR[PS] < CENTRO[PC]:\r\n",
        "      AMERICA[PA] = SUR[P5]\r\n",
        "      PS += 1\r\n",
        "    else:\r\n",
        "      AMERICA[PA] = CENTRO[PC]\r\n",
        "      PC += 1\r\n",
        "  while PS <= TPS and PN <= TPN:\r\n",
        "    PA += 1\r\n",
        "    if SUR[PS] < NORTE[PN]:\r\n",
        "      AMERICA[PA] = SUR[PS]\r\n",
        "      PS += 1\r\n",
        "    else:\r\n",
        "      AMERICA[PA] = NORTE[PN]\r\n",
        "      PN += 1\r\n",
        "  while PC <= TPC and PN <= TPN:\r\n",
        "    PA += 1\r\n",
        "    if CENTRO[PC] < NORTE[PN]:\r\n",
        "      AMERICA[PA] = CENTRO[PC]\r\n",
        "      PC += 1\r\n",
        "    else:\r\n",
        "      AMERICA[PA] = NORTE[PN]\r\n",
        "      PN += 1\r\n",
        "  while PS <= TPS:\r\n",
        "    PA += 1\r\n",
        "    AMERICA[PA] = SUR[PS]\r\n",
        "    PS += 1\r\n",
        "  while PC <= TPC:\r\n",
        "    PA += 1\r\n",
        "    AMERICA[PA] = CENTRO[PC]\r\n",
        "    PC += 1\r\n",
        "  while PN <= TPN:\r\n",
        "    PA += 1\r\n",
        "    AMERICA[PA] = NORTE[PN]\r\n",
        "    PN += 1\r\n",
        "  print(\"\\nArreglo América:\\n\")\r\n",
        "  for i in range(TP):\r\n",
        "    print(AMERICA[i+1])\r\n",
        "else:\r\n",
        "  print(\"\\nVerifique el número de países ingresados.\")"
      ],
      "execution_count": 49,
      "outputs": [
        {
          "output_type": "stream",
          "text": [
            "Ingresa el total de países del Sudamérica: 2\n",
            "Ingresa el total de países del Centroamérica: 2\n",
            "Ingresa el total de países del Norteamérica: 2\n",
            "\n",
            "A continuación ingrese los nombres de los países de Sudamerica\n",
            "Ingrese el nombre del país 1: Argentina\n",
            "Ingrese el nombre del país 2: Brasil\n",
            "\n",
            "A continuación ingrese los nombres de los países de Centroamérica\n",
            "Ingresa el nombre del país 1: Belice \n",
            "Ingresa el nombre del país 2: Honduras\n",
            "\n",
            "A continuación ingrese los nombres de los países de Norteamérica\n",
            "Ingresa el nombre del país 1: Canada\n",
            "Ingresa el nombre del país 2: Estados Unidos\n",
            "\n",
            "Arreglo América:\n",
            "\n",
            "Argentina\n",
            "Belice \n",
            "Brasil\n",
            "Canada\n",
            "Estados Unidos\n",
            "Honduras\n"
          ],
          "name": "stdout"
        }
      ]
    }
  ]
}