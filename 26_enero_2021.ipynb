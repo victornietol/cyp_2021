{
  "nbformat": 4,
  "nbformat_minor": 0,
  "metadata": {
    "colab": {
      "name": "26_enero_2021.ipynb",
      "provenance": [],
      "authorship_tag": "ABX9TyNxUTIWEBLqaJiOCnH2poem",
      "include_colab_link": true
    },
    "kernelspec": {
      "name": "python3",
      "display_name": "Python 3"
    }
  },
  "cells": [
    {
      "cell_type": "markdown",
      "metadata": {
        "id": "view-in-github",
        "colab_type": "text"
      },
      "source": [
        "<a href=\"https://colab.research.google.com/github/victornietol/cyp_2021/blob/main/26_enero_2021.ipynb\" target=\"_parent\"><img src=\"https://colab.research.google.com/assets/colab-badge.svg\" alt=\"Open In Colab\"/></a>"
      ]
    },
    {
      "cell_type": "markdown",
      "metadata": {
        "id": "flyl2N6TtTw7"
      },
      "source": [
        "# Listas de Python 3\r\n",
        "1. Es una estructura de datos lineal de 0 o n elementos.\r\n",
        "1. \"Equivalente\" a los arreglos.\r\n",
        "1. Pueden ser de diferente tipo de dato. [1,2,32,12] , [1, True, 2.34, \"Hola\"] \r\n",
        "1. Pueden ser anidados, es decir, listas de listas. [\"Melón\", \"manzana roja\", \"manzana amarilla\", ]\r\n",
        "1. Su selector es de la forma: [ int ]\r\n",
        "1. Son mutables. "
      ]
    },
    {
      "cell_type": "code",
      "metadata": {
        "colab": {
          "base_uri": "https://localhost:8080/"
        },
        "id": "wn-cwQI-u7uv",
        "outputId": "136dafa8-7f79-412e-b522-e7dcc3950bc3"
      },
      "source": [
        "# Ejemplos\r\n",
        "NUMEROS = [4,2,45,7,83.3]\r\n",
        "print(NUMEROS)\r\n",
        "print(NUMEROS[2])\r\n",
        "\r\n",
        "# Una lista de o elementos\r\n",
        "COLORES = [] #list()\r\n",
        "type(COLORES) # Averiguar de que tipo de dato es una variable con la función type\r\n",
        "DIAS = list()\r\n",
        "print(COLORES)\r\n",
        "print(DIAS)"
      ],
      "execution_count": 3,
      "outputs": [
        {
          "output_type": "stream",
          "text": [
            "[4, 2, 45, 7, 83.3]\n",
            "45\n",
            "[]\n",
            "[]\n"
          ],
          "name": "stdout"
        }
      ]
    },
    {
      "cell_type": "code",
      "metadata": {
        "colab": {
          "base_uri": "https://localhost:8080/"
        },
        "id": "UdNo8B-DwHVL",
        "outputId": "08b1757f-4fd6-4935-bfbd-d18e8165fdd8"
      },
      "source": [
        "# Pueden ser de diferente tipo de datos\r\n",
        "\r\n",
        "MI_LISTA = [1,2,3,\"José\",False,1.76,[552345653,44553412432,556677888]]\r\n",
        "print(MI_LISTA)\r\n",
        "print(MI_LISTA[5])\r\n",
        "print(MI_LISTA[6][1])\r\n",
        "print(MI_LISTA[3][3])\r\n",
        "print(MI_LISTA[3][3::])   # Con rebanado\r\n",
        "print(MI_LISTA[3][-1::1]) # Con rebado con índexado negativo\r\n",
        "MI_LISTA2 = [1,2,3,\"José\",False,1.76,[\"552345653\",\"44553412432\",\"556677888\"]]\r\n",
        "print(str(MI_LISTA[6][1])[2])  #Obtener un numero de una de las listas de la lista "
      ],
      "execution_count": 10,
      "outputs": [
        {
          "output_type": "stream",
          "text": [
            "[1, 2, 3, 'José', False, 1.76, [552345653, 44553412432, 556677888]]\n",
            "1.76\n",
            "44553412432\n",
            "é\n",
            "é\n",
            "é\n",
            "5\n"
          ],
          "name": "stdout"
        }
      ]
    },
    {
      "cell_type": "code",
      "metadata": {
        "colab": {
          "base_uri": "https://localhost:8080/"
        },
        "id": "iU13LgGm0dHr",
        "outputId": "6bbac988-c585-45ae-9d64-4b5b9315d24a"
      },
      "source": [
        "FRUTAS = [\"melon\",\"sandia\",\"kiwi\",\"aguacate\",\"mango\",\"platano\"]\r\n",
        "print(FRUTAS)\r\n",
        "FRUTAS[0] = \"Melón\"\r\n",
        "print(FRUTAS)\r\n",
        "#FRUTAS[1][0] = \"S\"\r\n",
        "FRUTAS[1] = FRUTAS[1].capitalize()  # Asignar mayúscula con .capitalize\r\n",
        "print(FRUTAS)"
      ],
      "execution_count": 13,
      "outputs": [
        {
          "output_type": "stream",
          "text": [
            "['melon', 'sandia', 'kiwi', 'aguacate', 'mango', 'platano']\n",
            "['Melón', 'sandia', 'kiwi', 'aguacate', 'mango', 'platano']\n",
            "['Melón', 'Sandia', 'kiwi', 'aguacate', 'mango', 'platano']\n"
          ],
          "name": "stdout"
        }
      ]
    },
    {
      "cell_type": "code",
      "metadata": {
        "colab": {
          "base_uri": "https://localhost:8080/"
        },
        "id": "n-K0s1ew2D0s",
        "outputId": "3ecc4e7b-5bcc-4ce3-9228-37356c31c099"
      },
      "source": [
        "# Las listas son clases, por lo tanto, tienen métodos.\r\n",
        "# Ejemplo: Append, agrega un elemento al final\r\n",
        "FRUTAS = [\"melon\",\"sandia\",\"kiwi\",\"aguacate\",\"mango\",\"platano\"]\r\n",
        "FRUTAS.append(\"Fresa\")\r\n",
        "print(FRUTAS)\r\n",
        "\r\n",
        "print(\"\\nEjemplo de copias\")\r\n",
        "OTRAS_FRUTAS = FRUTAS.copy()   # Se utiliza .copy() para hacer una copia en memoria\r\n",
        "print(FRUTAS)\r\n",
        "print(OTRAS_FRUTAS)\r\n",
        "OTRAS_FRUTAS[0] = \"Chico zapote\"\r\n",
        "print(OTRAS_FRUTAS)\r\n",
        "print(FRUTAS)\r\n",
        "print(\"------------\")\r\n",
        "\r\n",
        "print(\"\\nEjemplo de extend\")  # Agregar mas de un valor a una lista  con .extend()\r\n",
        "\r\n",
        "COLORES = [\"rojo\", \"verde\", \"azul\"]\r\n",
        "FRUTAS.extend(COLORES)\r\n",
        "print(FRUTAS)\r\n",
        "\r\n",
        "print(\"\\nEjemplo insert\")  # Agregar un elemento a una lista en una posición determinada con .insert()\r\n",
        "FRUTAS.insert(3,\"Limón\")\r\n",
        "print(FRUTAS)\r\n",
        "\r\n",
        "print(\"\\nEjemplo remove, eliminar el kiwi\") # Eliminar un valor especifico con .remove()\r\n",
        "FRUTAS.remove(\"kiwi\")\r\n",
        "print(FRUTAS)\r\n",
        "\r\n",
        "print(\"\\nEjemplo con operador del\")  # Eliminar un valor con su posición utilizando \"del\"\r\n",
        "del FRUTAS[2] # Operador listas\r\n",
        "print(FRUTAS)\r\n",
        "\r\n",
        "FRUTAS.clear()\r\n",
        "print(FRUTAS)"
      ],
      "execution_count": 29,
      "outputs": [
        {
          "output_type": "stream",
          "text": [
            "['melon', 'sandia', 'kiwi', 'aguacate', 'mango', 'platano', 'Fresa']\n",
            "\n",
            "Ejemplo de copias\n",
            "['melon', 'sandia', 'kiwi', 'aguacate', 'mango', 'platano', 'Fresa']\n",
            "['melon', 'sandia', 'kiwi', 'aguacate', 'mango', 'platano', 'Fresa']\n",
            "['Chico zapote', 'sandia', 'kiwi', 'aguacate', 'mango', 'platano', 'Fresa']\n",
            "['melon', 'sandia', 'kiwi', 'aguacate', 'mango', 'platano', 'Fresa']\n",
            "------------\n",
            "\n",
            "Ejemplo de extend\n",
            "['melon', 'sandia', 'kiwi', 'aguacate', 'mango', 'platano', 'Fresa', 'rojo', 'verde', 'azul']\n",
            "\n",
            "Ejemplo insert\n",
            "['melon', 'sandia', 'kiwi', 'Limón', 'aguacate', 'mango', 'platano', 'Fresa', 'rojo', 'verde', 'azul']\n",
            "\n",
            "Ejemplo remove, eliminar el kiwi\n",
            "['melon', 'sandia', 'Limón', 'aguacate', 'mango', 'platano', 'Fresa', 'rojo', 'verde', 'azul']\n",
            "\n",
            "Ejemplo con operador del\n",
            "['melon', 'sandia', 'aguacate', 'mango', 'platano', 'Fresa', 'rojo', 'verde', 'azul']\n",
            "[]\n"
          ],
          "name": "stdout"
        }
      ]
    },
    {
      "cell_type": "code",
      "metadata": {
        "colab": {
          "base_uri": "https://localhost:8080/"
        },
        "id": "gZccBlcI_IRd",
        "outputId": "b62c21a6-151f-4442-c071-2b515d344011"
      },
      "source": [
        "cosas = [\"jose\",True,2,3,4,5,\"pedro\",1.23]\r\n",
        "indice = 0\r\n",
        "a_eliminar = []\r\n",
        "for elemento in cosas:\r\n",
        "  if isinstance(elemento,int):\r\n",
        "    print(\"Entero\", elemento) # cosas.remove(elemento)\r\n",
        "    a_eliminar.append(elemento)\r\n",
        "  indice += 1\r\n",
        "\r\n",
        "print(a_eliminar)\r\n",
        "for indice in a_eliminar:\r\n",
        "  print(indice)\r\n",
        "  cosas.remove(indice)\r\n",
        "print(cosas)"
      ],
      "execution_count": 38,
      "outputs": [
        {
          "output_type": "stream",
          "text": [
            "Entero True\n",
            "Entero 2\n",
            "Entero 3\n",
            "Entero 4\n",
            "Entero 5\n",
            "[True, 2, 3, 4, 5]\n",
            "True\n",
            "2\n",
            "3\n",
            "4\n",
            "5\n",
            "['jose', 'pedro', 1.23]\n"
          ],
          "name": "stdout"
        }
      ]
    },
    {
      "cell_type": "code",
      "metadata": {
        "colab": {
          "base_uri": "https://localhost:8080/"
        },
        "id": "JBZHruHg2UbP",
        "outputId": "308a2b52-6187-40f7-d4f2-6d0156468c30"
      },
      "source": [
        "dir(FRUTAS)"
      ],
      "execution_count": 15,
      "outputs": [
        {
          "output_type": "execute_result",
          "data": {
            "text/plain": [
              "['__add__',\n",
              " '__class__',\n",
              " '__contains__',\n",
              " '__delattr__',\n",
              " '__delitem__',\n",
              " '__dir__',\n",
              " '__doc__',\n",
              " '__eq__',\n",
              " '__format__',\n",
              " '__ge__',\n",
              " '__getattribute__',\n",
              " '__getitem__',\n",
              " '__gt__',\n",
              " '__hash__',\n",
              " '__iadd__',\n",
              " '__imul__',\n",
              " '__init__',\n",
              " '__init_subclass__',\n",
              " '__iter__',\n",
              " '__le__',\n",
              " '__len__',\n",
              " '__lt__',\n",
              " '__mul__',\n",
              " '__ne__',\n",
              " '__new__',\n",
              " '__reduce__',\n",
              " '__reduce_ex__',\n",
              " '__repr__',\n",
              " '__reversed__',\n",
              " '__rmul__',\n",
              " '__setattr__',\n",
              " '__setitem__',\n",
              " '__sizeof__',\n",
              " '__str__',\n",
              " '__subclasshook__',\n",
              " 'append',\n",
              " 'clear',\n",
              " 'copy',\n",
              " 'count',\n",
              " 'extend',\n",
              " 'index',\n",
              " 'insert',\n",
              " 'pop',\n",
              " 'remove',\n",
              " 'reverse',\n",
              " 'sort']"
            ]
          },
          "metadata": {
            "tags": []
          },
          "execution_count": 15
        }
      ]
    },
    {
      "cell_type": "code",
      "metadata": {
        "colab": {
          "base_uri": "https://localhost:8080/"
        },
        "id": "DqzVSGCnFGlQ",
        "outputId": "ddcf7b2c-5559-4715-82ca-c8ee67640d2a"
      },
      "source": [
        "# Slicing sobre listas\r\n",
        "\r\n",
        "FRUTAS = [\"melon\",\"sandia\",\"kiwi\",\"aguacate\",\"mango\",\"platano\"]\r\n",
        "\r\n",
        "print(FRUTAS[1:4:])\r\n",
        "\r\n",
        "SISTEMAS_OPERATIVOS = [\"Windows\",\"Mac OS\",\"Linux\",\"Android\"]\r\n",
        "AUTOS = [\"Ford\",\"Mazda\",\"Honda\"]\r\n",
        "\r\n",
        "COSAS = [SISTEMAS_OPERATIVOS , AUTOS]\r\n",
        "print(COSAS)\r\n",
        "print(COSAS[1]) # Solo elementos de la lista AUTOS\r\n",
        "print(COSAS[0][2])  # Un elemento de la lista SISTEMAS_OPERATIVOS\r\n",
        "print(COSAS[0][3][2:5:1])  # Un elemento en especifico de la primera lista\r\n",
        "print(COSAS[1][1][-2:-5:-1])  # Elementos en especifico de la segunda lista"
      ],
      "execution_count": 55,
      "outputs": [
        {
          "output_type": "stream",
          "text": [
            "['sandia', 'kiwi', 'aguacate']\n",
            "[['Windows', 'Mac OS', 'Linux', 'Android'], ['Ford', 'Mazda', 'Honda']]\n",
            "['Ford', 'Mazda', 'Honda']\n",
            "Linux\n",
            "dro\n",
            "dza\n"
          ],
          "name": "stdout"
        }
      ]
    }
  ]
}