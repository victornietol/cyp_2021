{
  "nbformat": 4,
  "nbformat_minor": 0,
  "metadata": {
    "colab": {
      "name": "05_enero_2021.ipynb",
      "provenance": [],
      "authorship_tag": "ABX9TyMZ73we7xK4s8tjJGdT//ui",
      "include_colab_link": true
    },
    "kernelspec": {
      "name": "python3",
      "display_name": "Python 3"
    }
  },
  "cells": [
    {
      "cell_type": "markdown",
      "metadata": {
        "id": "view-in-github",
        "colab_type": "text"
      },
      "source": [
        "<a href=\"https://colab.research.google.com/github/victornietol/cyp_2021/blob/main/05_enero_2021.ipynb\" target=\"_parent\"><img src=\"https://colab.research.google.com/assets/colab-badge.svg\" alt=\"Open In Colab\"/></a>"
      ]
    },
    {
      "cell_type": "code",
      "metadata": {
        "colab": {
          "base_uri": "https://localhost:8080/"
        },
        "id": "EyyvEYhrjHFH",
        "outputId": "c8e9332f-796f-4dda-a310-3c5251353fd0"
      },
      "source": [
        "#Arreglos\r\n",
        "#Ejemplo 1\r\n",
        "\r\n",
        "SUELDO = [0.0 for x in range (7)]\r\n",
        "print(SUELDOS)\r\n",
        "SUELDO [0] = 12.3\r\n",
        "SUELDO [1] = 2.3\r\n",
        "SUELDO [2] = 11.2\r\n",
        "SUELDO [3] = 4.3\r\n",
        "SUELDO [4] = 1.23\r\n",
        "SUELDO [5] = 6.3\r\n",
        "SUELDO [6] = 7.4\r\n",
        "print(SUELDO)\r\n",
        "\r\n",
        "\r\n",
        "#SUELDOS=[0.0 for x in range(7)] #generador de python\r\n",
        "#for j in range(7):\r\n",
        "#  SUELDOS[j]=float(input(\"Introduce un sueldo:\"))\r\n",
        "#print(SUELDO)\r\n",
        "\r\n",
        "#Otro ejemplo\r\n",
        "#for j in range (sueldo[7]):\r\n",
        "#  sueldos [j]=float (input(f\"Ingrese el sueldo numero {j+1}\"))\r\n",
        "#  j+j+1\r\n",
        "\r\n",
        "\r\n",
        "#Otra ejemplo\r\n",
        "#SUELDO for i in range(0,7):\r\n",
        "#    SUELDO[i] = float(i)+1.0\r\n",
        "#print(SUELDO)\r\n",
        "\r\n",
        "#Automatizar el recorrido de los elementos del arreglo\r\n",
        "#for i in range (7):\r\n",
        "#  print(f\"El trabajador {int(i)+1} gana ${SUELDO[i]}\")"
      ],
      "execution_count": 26,
      "outputs": [
        {
          "output_type": "stream",
          "text": [
            "[12.3, 2.3, 11.2, 4.3, 1.23, 6.3, 7.4]\n",
            "[12.3, 2.3, 11.2, 4.3, 1.23, 6.3, 7.4]\n"
          ],
          "name": "stdout"
        }
      ]
    },
    {
      "cell_type": "code",
      "metadata": {
        "colab": {
          "base_uri": "https://localhost:8080/"
        },
        "id": "hFgh75_SozZe",
        "outputId": "f15f8f83-a9c9-4a18-c122-cf02f559a80d"
      },
      "source": [
        "#Problema 4.1\r\n",
        "MAXIMO = 7\r\n",
        "SUELDO = [0.0 for x in range(MAXIMO)]\r\n",
        "SUMA = 0.0\r\n",
        "PROMEDIO = 0.0\r\n",
        "\r\n",
        "for i in range(MAXIMO):\r\n",
        "  SUELDO[i] = float(input(\"Dame el sueldo: \"))\r\n",
        "\r\n",
        "for i in range(MAXIMO):\r\n",
        "  print(f\"Trabajador {i + 1}, gana: {SUELDO[i]}\")\r\n",
        "\r\n",
        "for i in range(MAXIMO):\r\n",
        "  SUMA += SUELDO[i]\r\n",
        "\r\n",
        "PROMEDIO = SUMA / MAXIMO\r\n",
        "\r\n",
        "print(f\"El promedio del sueldo es ${PROMEDIO}\")\r\n",
        "\r\n",
        "for i in range(MAXIMO):\r\n",
        "  if SUELDO[i] > PROMEDIO:\r\n",
        "    print(f\"El trabajador {i+1} tiene un sueldo mayor al promedio\")"
      ],
      "execution_count": 10,
      "outputs": [
        {
          "output_type": "stream",
          "text": [
            "Dame el sueldo: 4\n",
            "Dame el sueldo: 5\n",
            "Dame el sueldo: 4\n",
            "Dame el sueldo: 5\n",
            "Dame el sueldo: 4\n",
            "Dame el sueldo: 5\n",
            "Dame el sueldo: 4\n",
            "Trabajador 1, gana: 4.0\n",
            "Trabajador 2, gana: 5.0\n",
            "Trabajador 3, gana: 4.0\n",
            "Trabajador 4, gana: 5.0\n",
            "Trabajador 5, gana: 4.0\n",
            "Trabajador 6, gana: 5.0\n",
            "Trabajador 7, gana: 4.0\n",
            "El promedio del sueldo es $4.428571428571429\n",
            "El trabajador 2 tiene un sueldo mayor al promedio\n",
            "El trabajador 4 tiene un sueldo mayor al promedio\n",
            "El trabajador 6 tiene un sueldo mayor al promedio\n"
          ],
          "name": "stdout"
        }
      ]
    },
    {
      "cell_type": "code",
      "metadata": {
        "colab": {
          "base_uri": "https://localhost:8080/"
        },
        "id": "Okr52jxessZI",
        "outputId": "f6d7dc30-d500-473c-8fb7-d17f574c02c9"
      },
      "source": [
        "# Hacer un programa que solicite 5 valores enteros positivos y\r\n",
        "# una vez que se capturen por teclado, el programa determine:\r\n",
        "  # 1.- cual es el mayor valor\r\n",
        "  # 2.- cual es el menor\r\n",
        "  # 3.- cual es el promedio\r\n",
        "\r\n",
        "MAX = 5\r\n",
        "VAL = [0 for x in range(MAX)]\r\n",
        "MAYOR = 0\r\n",
        "MENOR = 1000\r\n",
        "SUMA = 0\r\n",
        "PRO = 0\r\n",
        "\r\n",
        "for i in range(MAX):\r\n",
        "  VAL[i] = int(input(f\"Ingresa el valor {i+1}: \"))\r\n",
        "  SUMA += VAL[i]\r\n",
        "  if VAL[i] > MAYOR:\r\n",
        "    MAYOR = VAL[i]\r\n",
        "  if VAL[i] < MENOR:\r\n",
        "    MENOR = VAL[i]\r\n",
        "PRO = SUMA / MAX\r\n",
        "print(f\"\\nEl número mayor es {MAYOR}\\nEl número menor es {MENOR}\\nEl promedio es {PRO}\")"
      ],
      "execution_count": 24,
      "outputs": [
        {
          "output_type": "stream",
          "text": [
            "Ingresa el valor 1: 1\n",
            "Ingresa el valor 2: 2\n",
            "Ingresa el valor 3: 3\n",
            "Ingresa el valor 4: 4\n",
            "Ingresa el valor 5: 5\n",
            "\n",
            "El número mayor es 5\n",
            "El número menor es 1\n",
            "El promedio es 3.0\n"
          ],
          "name": "stdout"
        }
      ]
    },
    {
      "cell_type": "code",
      "metadata": {
        "colab": {
          "base_uri": "https://localhost:8080/"
        },
        "id": "YZ5Wh02AxZO0",
        "outputId": "9869f191-d8ff-47db-c6fa-f5d06a070179"
      },
      "source": [
        "#Problema 4.1\r\n",
        "N = int(input(\"Ingrese el número de elementos del arreglo: \"))\r\n",
        "VEC = []\r\n",
        "if 1 <= N and N <= 500:\r\n",
        "  VEC = [0 for x in range (N)]\r\n",
        "  print(VEC)\r\n",
        "  for I in range(N):\r\n",
        "    VEC[I] = int(input(f\"Ingrese valor {I+1}: \"))\r\n",
        "  print(\"Lista de números sin repeticiones:\")\r\n",
        "  I = 0\r\n",
        "  while I < N:\r\n",
        "    print(VEC[I])\r\n",
        "    REPET = VEC[I]\r\n",
        "    while I < N and REPET == VEC[I]:\r\n",
        "      I += 1\r\n",
        "    I += 1\r\n",
        "     \r\n",
        "else: \r\n",
        "  print(\"\\nEl número de elementos del arreglo es incorrecto.\")"
      ],
      "execution_count": 18,
      "outputs": [
        {
          "output_type": "stream",
          "text": [
            "Ingrese el número de elementos del arreglo: 10\n",
            "[0, 0, 0, 0, 0, 0, 0, 0, 0, 0]\n",
            "Ingrese valor 1: 2\n",
            "Ingrese valor 2: 3\n",
            "Ingrese valor 3: 3\n",
            "Ingrese valor 4: 3\n",
            "Ingrese valor 5: 10\n",
            "Ingrese valor 6: 20\n",
            "Ingrese valor 7: 20\n",
            "Ingrese valor 8: 40\n",
            "Ingrese valor 9: 43\n",
            "Ingrese valor 10: 51\n",
            "Lista de números sin repeticiones:\n",
            "2\n",
            "3\n",
            "20\n",
            "43\n"
          ],
          "name": "stdout"
        }
      ]
    }
  ]
}