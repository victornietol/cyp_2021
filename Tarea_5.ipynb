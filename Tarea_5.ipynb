{
  "nbformat": 4,
  "nbformat_minor": 0,
  "metadata": {
    "colab": {
      "name": "Tarea_5.ipynb",
      "provenance": [],
      "authorship_tag": "ABX9TyNTG6J2Y01n+ILdVeslAFZo",
      "include_colab_link": true
    },
    "kernelspec": {
      "name": "python3",
      "display_name": "Python 3"
    }
  },
  "cells": [
    {
      "cell_type": "markdown",
      "metadata": {
        "id": "view-in-github",
        "colab_type": "text"
      },
      "source": [
        "<a href=\"https://colab.research.google.com/github/victornietol/cyp_2021/blob/main/Tarea_5.ipynb\" target=\"_parent\"><img src=\"https://colab.research.google.com/assets/colab-badge.svg\" alt=\"Open In Colab\"/></a>"
      ]
    },
    {
      "cell_type": "code",
      "metadata": {
        "colab": {
          "base_uri": "https://localhost:8080/"
        },
        "id": "n_Mq1Pg1qrLn",
        "outputId": "98fce7af-caac-4df0-885f-789e66385df7"
      },
      "source": [
        "#Ejercicio 3.1   (Sin usar estructura repetitiva)\n",
        "\n",
        "SUE1 = float(input(\"Ingrese el sueldo del trabajador 1: \"))\n",
        "SUE2 = float(input(\"Ingrese el sueldo del trabajador 2: \"))\n",
        "SUE3 = float(input(\"Ingrese el sueldo del trabajador 3: \"))\n",
        "SUE4 = float(input(\"Ingrese el sueldo del trabajador 4: \"))\n",
        "SUE5 = float(input(\"Ingrese el sueldo del trabajador 5: \"))\n",
        "SUE6 = float(input(\"Ingrese el sueldo del trabajador 6: \"))\n",
        "SUE7 = float(input(\"Ingrese el sueldo del trabajador 7: \"))\n",
        "SUE8 = float(input(\"Ingrese el sueldo del trabajador 8: \"))\n",
        "SUE9 = float(input(\"Ingrese el sueldo del trabajador 9: \"))\n",
        "SUE10 = float(input(\"Ingrese el sueldo del trabajador 10: \"))\n",
        "\n",
        "NOM = SUE1 + SUE2 + SUE3 + SUE4 + SUE5 + SUE6 + SUE7 + SUE8 + SUE9 + SUE10\n",
        "\n",
        "print(f\"\\nLa nómina de la empresa es igual a ${NOM}\")"
      ],
      "execution_count": null,
      "outputs": [
        {
          "output_type": "stream",
          "text": [
            "Ingrese el sueldo del trabajador 1: 500\n",
            "Ingrese el sueldo del trabajador 2: 200\n",
            "Ingrese el sueldo del trabajador 3: 800\n",
            "Ingrese el sueldo del trabajador 4: 550\n",
            "Ingrese el sueldo del trabajador 5: 200\n",
            "Ingrese el sueldo del trabajador 6: 100\n",
            "Ingrese el sueldo del trabajador 7: 860\n",
            "Ingrese el sueldo del trabajador 8: 450\n",
            "Ingrese el sueldo del trabajador 9: 503\n",
            "Ingrese el sueldo del trabajador 10: 107\n",
            "\n",
            "La nomina de la empresa es igual a $4270.0\n"
          ],
          "name": "stdout"
        }
      ]
    },
    {
      "cell_type": "code",
      "metadata": {
        "colab": {
          "base_uri": "https://localhost:8080/"
        },
        "id": "4ZIZmT0MuR-q",
        "outputId": "ba151628-7cfc-4ff5-bd0e-3fcb17e2b149"
      },
      "source": [
        "#Ejercicio 3.1  (Usando estructura repetitiva)\n",
        "\n",
        "SUE = 0.0\n",
        "NOM = 0.0\n",
        "\n",
        "for i in range (10):\n",
        "  i = i + 1\n",
        "  SUE = float(input(f\"Ingrese el sueldo del trabajador {i}: $\"))\n",
        "  NOM = NOM + SUE \n",
        "\n",
        "print(f\"\\nLa nómina de la empresa es ${NOM}\") "
      ],
      "execution_count": null,
      "outputs": [
        {
          "output_type": "stream",
          "text": [
            "Ingrese el sueldo del trabajador 1: $1500\n",
            "Ingrese el sueldo del trabajador 2: $890\n",
            "Ingrese el sueldo del trabajador 3: $700\n",
            "Ingrese el sueldo del trabajador 4: $950\n",
            "Ingrese el sueldo del trabajador 5: $2300\n",
            "Ingrese el sueldo del trabajador 6: $1650\n",
            "Ingrese el sueldo del trabajador 7: $1800\n",
            "Ingrese el sueldo del trabajador 8: $1400\n",
            "Ingrese el sueldo del trabajador 9: $760\n",
            "Ingrese el sueldo del trabajador 10: $900\n",
            "\n",
            "La nómina de la empresa es $12850.0\n"
          ],
          "name": "stdout"
        }
      ]
    },
    {
      "cell_type": "code",
      "metadata": {
        "colab": {
          "base_uri": "https://localhost:8080/"
        },
        "id": "JDuPe8Xj13KU",
        "outputId": "1558607f-ce21-47a2-a343-b90ed4de4f7b"
      },
      "source": [
        "#Ejercicio 3.4 \n",
        "\n",
        "GASTO = 0.0\n",
        "SUMGAS = 0.0\n",
        "\n",
        "GASTO = float(input(\"Ingrese el valor del gasto: $\"))\n",
        "\n",
        "while GASTO > -1:\n",
        "  SUMGAS = SUMGAS + GASTO\n",
        "  GASTO = float(input(\"Ingrese el valor del gasto: $\"))\n",
        "\n",
        "print(f\"\\nEl gasto total es de: ${SUMGAS}\")"
      ],
      "execution_count": null,
      "outputs": [
        {
          "output_type": "stream",
          "text": [
            "Ingrese el valor del gasto: $2528\n",
            "Ingrese el valor del gasto: $3500\n",
            "Ingrese el valor del gasto: $1600\n",
            "Ingrese el valor del gasto: $1850\n",
            "Ingrese el valor del gasto: $150\n",
            "Ingrese el valor del gasto: $-1\n",
            "\n",
            "El gasto total es de: $9628.0\n"
          ],
          "name": "stdout"
        }
      ]
    }
  ]
}