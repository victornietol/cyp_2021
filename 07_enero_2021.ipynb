{
  "nbformat": 4,
  "nbformat_minor": 0,
  "metadata": {
    "colab": {
      "name": "07_enero_2021.ipynb",
      "provenance": [],
      "authorship_tag": "ABX9TyMNodkJI/yABi0t+TCuZr2u",
      "include_colab_link": true
    },
    "kernelspec": {
      "name": "python3",
      "display_name": "Python 3"
    }
  },
  "cells": [
    {
      "cell_type": "markdown",
      "metadata": {
        "id": "view-in-github",
        "colab_type": "text"
      },
      "source": [
        "<a href=\"https://colab.research.google.com/github/victornietol/cyp_2021/blob/main/07_enero_2021.ipynb\" target=\"_parent\"><img src=\"https://colab.research.google.com/assets/colab-badge.svg\" alt=\"Open In Colab\"/></a>"
      ]
    },
    {
      "cell_type": "code",
      "metadata": {
        "colab": {
          "base_uri": "https://localhost:8080/"
        },
        "id": "-Qee_Zkf4U2q",
        "outputId": "3c8d33bd-39ed-4cbf-9ad0-b41168baea8c"
      },
      "source": [
        "#Ejemplo de como se hace un arreglo bidimensional\r\n",
        "\r\n",
        "REN = 3\r\n",
        "COL = 5\r\n",
        "VEC = [ [0 for x in range(COL)] for x in range(REN)]\r\n",
        "print(VEC)\r\n",
        "\r\n",
        "VEC[1][2] = 15\r\n",
        "print(VEC)\r\n",
        "\r\n",
        "print(\"\\nAutomatizar el recorrido del arreglo\")\r\n",
        "for i in range(REN):\r\n",
        "  for j in range(COL):\r\n",
        "    print(f\"{i},{j} = {VEC[i][j]}\")"
      ],
      "execution_count": 5,
      "outputs": [
        {
          "output_type": "stream",
          "text": [
            "[[0, 0, 0, 0, 0], [0, 0, 0, 0, 0], [0, 0, 0, 0, 0]]\n",
            "[[0, 0, 0, 0, 0], [0, 0, 15, 0, 0], [0, 0, 0, 0, 0]]\n",
            "\n",
            "Automatizar el recorrido del arreglo\n",
            "0,0 = 0\n",
            "0,1 = 0\n",
            "0,2 = 0\n",
            "0,3 = 0\n",
            "0,4 = 0\n",
            "1,0 = 0\n",
            "1,1 = 0\n",
            "1,2 = 15\n",
            "1,3 = 0\n",
            "1,4 = 0\n",
            "2,0 = 0\n",
            "2,1 = 0\n",
            "2,2 = 0\n",
            "2,3 = 0\n",
            "2,4 = 0\n"
          ],
          "name": "stdout"
        }
      ]
    },
    {
      "cell_type": "code",
      "metadata": {
        "colab": {
          "base_uri": "https://localhost:8080/"
        },
        "id": "XbWTlEr5D76j",
        "outputId": "9e961f7e-713b-4207-b336-843c5aaf1804"
      },
      "source": [
        "#Problema, EJEMPLO 4.6\r\n",
        "\r\n",
        "ESTADOS = int(input(\"Ingresa el número de estados: \"))\r\n",
        "LLUVIAS = [[0 for x in range(12)] for x in range(ESTADOS)]\r\n",
        "print(LLUVIAS)\r\n",
        "for i in range(ESTADOS):\r\n",
        "  for j in range(12):\r\n",
        "    aux = int(input(f\"Ingresa el valor del estado {i+1} del mes {j+1}: \"))\r\n",
        "    LLUVIAS[i][j] = aux\r\n",
        "print(LLUVIAS)\r\n",
        "\r\n",
        "print(\"Promedio de lluvias en los estados: \")\r\n",
        "SUMA = 0\r\n",
        "for i in range(ESTADOS):\r\n",
        "  SUMA = 0\r\n",
        "  for j in range(12):\r\n",
        "    SUMA += LLUVIAS[i][j]\r\n",
        "  print(f\"El promedio de lluvias en el estado {i + 1} es {SUMA / 12}\") "
      ],
      "execution_count": 11,
      "outputs": [
        {
          "output_type": "stream",
          "text": [
            "Ingresa el número de estados: 2\n",
            "[[0, 0, 0, 0, 0, 0, 0, 0, 0, 0, 0, 0], [0, 0, 0, 0, 0, 0, 0, 0, 0, 0, 0, 0]]\n",
            "Ingresa el valor del estado 1 del mes 1: 50\n",
            "Ingresa el valor del estado 1 del mes 2: 7\n",
            "Ingresa el valor del estado 1 del mes 3: 12\n",
            "Ingresa el valor del estado 1 del mes 4: 15\n",
            "Ingresa el valor del estado 1 del mes 5: 22\n",
            "Ingresa el valor del estado 1 del mes 6: 50\n",
            "Ingresa el valor del estado 1 del mes 7: 85\n",
            "Ingresa el valor del estado 1 del mes 8: 70\n",
            "Ingresa el valor del estado 1 del mes 9: 65\n",
            "Ingresa el valor del estado 1 del mes 10: 28\n",
            "Ingresa el valor del estado 1 del mes 11: 35\n",
            "Ingresa el valor del estado 1 del mes 12: 17\n",
            "Ingresa el valor del estado 2 del mes 1: 45\n",
            "Ingresa el valor del estado 2 del mes 2: 3\n",
            "Ingresa el valor del estado 2 del mes 3: 10\n",
            "Ingresa el valor del estado 2 del mes 4: 5\n",
            "Ingresa el valor del estado 2 del mes 5: 30\n",
            "Ingresa el valor del estado 2 del mes 6: 90\n",
            "Ingresa el valor del estado 2 del mes 7: 130\n",
            "Ingresa el valor del estado 2 del mes 8: 75\n",
            "Ingresa el valor del estado 2 del mes 9: 49\n",
            "Ingresa el valor del estado 2 del mes 10: 37\n",
            "Ingresa el valor del estado 2 del mes 11: 15\n",
            "Ingresa el valor del estado 2 del mes 12: 8\n",
            "[[50, 7, 12, 15, 22, 50, 85, 70, 65, 28, 35, 17], [45, 3, 10, 5, 30, 90, 130, 75, 49, 37, 15, 8]]\n",
            "Promedio de lluvias en los estados: \n",
            "El promedio de lluvias en el estado 1 es 38.0\n",
            "El promedio de lluvias en el estado 2 es 41.416666666666664\n"
          ],
          "name": "stdout"
        }
      ]
    }
  ]
}