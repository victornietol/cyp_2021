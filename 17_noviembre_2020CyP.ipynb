{
  "nbformat": 4,
  "nbformat_minor": 0,
  "metadata": {
    "colab": {
      "name": "17_noviembre_2020CyP.ipynb",
      "provenance": [],
      "authorship_tag": "ABX9TyMtzXlF4zlsK2uCGXOgCb1Y",
      "include_colab_link": true
    },
    "kernelspec": {
      "name": "python3",
      "display_name": "Python 3"
    }
  },
  "cells": [
    {
      "cell_type": "markdown",
      "metadata": {
        "id": "view-in-github",
        "colab_type": "text"
      },
      "source": [
        "<a href=\"https://colab.research.google.com/github/victornietol/cyp_2021/blob/main/17_noviembre_2020CyP.ipynb\" target=\"_parent\"><img src=\"https://colab.research.google.com/assets/colab-badge.svg\" alt=\"Open In Colab\"/></a>"
      ]
    },
    {
      "cell_type": "code",
      "metadata": {
        "colab": {
          "base_uri": "https://localhost:8080/"
        },
        "id": "kIDhdf5ASKnh",
        "outputId": "a9c461d7-140b-483c-dca7-c7e7ecfbedbf"
      },
      "source": [
        "edad = 15\n",
        "estatura = 1.67 \n",
        "a = 10  \n",
        "b = 3\n",
        "\n",
        "c = 2 ** b + 2 +3 +4\n",
        "\n",
        "print(c) \n",
        "\n",
        "e = estatura * 2.0 \n",
        "print(e)  \n",
        "\n",
        "f = a / b # En python se hace el cálculo  exacto\n",
        "print (f) # 3.3333\n",
        "\n",
        "# Tambien podemos forzar al calculo de enteros\n",
        "g = a//b\n",
        "print(\"g=\" ,g)\n",
        "\n",
        "h = a % b \n",
        "print (\"h = \", h)\n",
        "\n",
        "num = 11\n",
        "print(\"Es par num ? \", (num % 2) == 0)"
      ],
      "execution_count": 7,
      "outputs": [
        {
          "output_type": "stream",
          "text": [
            "17\n",
            "3.34\n",
            "3.3333333333333335\n",
            "g= 3\n",
            "h =  1\n",
            "Es par num ?  False\n"
          ],
          "name": "stdout"
        }
      ]
    },
    {
      "cell_type": "code",
      "metadata": {
        "colab": {
          "base_uri": "https://localhost:8080/"
        },
        "id": "_e8sgZG4W7iN",
        "outputId": "8c6ee43c-19c1-49e8-b6bf-675a839ee931"
      },
      "source": [
        "ecuacion = 9 + 7 * 8 - 36 / 5 # 9 + 56 - 7.2 -> 65- 7.2 \n",
        "print(ecuacion)\n",
        "\n",
        "ecuacion = (9 + 7) * 8 - 36 / 5 # 128 - 7.2\n",
        "print(ecuacion)\n",
        "\n",
        "ecuacion = 9 + 7 * (8 - 36) / 5 \n",
        "print(ecuacion)"
      ],
      "execution_count": 10,
      "outputs": [
        {
          "output_type": "stream",
          "text": [
            "57.8\n",
            "120.8\n",
            "-30.200000000000003\n"
          ],
          "name": "stdout"
        }
      ]
    },
    {
      "cell_type": "code",
      "metadata": {
        "colab": {
          "base_uri": "https://localhost:8080/"
        },
        "id": "zT3FvddOcCOP",
        "outputId": "eadfaf83-55dd-472a-9600-4b28ddbbf6af"
      },
      "source": [
        "# Operadores logicos  --> True y False\n",
        "\n",
        "x = 5 \n",
        "y = 4\n",
        "\n",
        "valor = (x == y) # Son iguales ?? --> Falso\n",
        "print(valor)\n",
        "\n",
        "valor = (x !=y) # Son diferentes?? --> Verdadero\n",
        "print(valor)\n",
        "\n",
        "valor = (x < y) # x es menor que y ?? Falso \n",
        "print(valor)\n",
        "\n",
        "valor = (x > y) # x es Mayor que y ?? Falso\n",
        "print(valor)\n",
        "\n",
        "y = 5\n",
        "valor = (x <= y) # x es menor o igual que y ?? True\n",
        "print(valor)\n",
        "\n",
        "\n",
        "valor = (x >= y) # x es MAYOR o igual que y ?? True\n",
        "print(valor)"
      ],
      "execution_count": 15,
      "outputs": [
        {
          "output_type": "stream",
          "text": [
            "False\n",
            "True\n",
            "False\n",
            "True\n",
            "True\n",
            "True\n"
          ],
          "name": "stdout"
        }
      ]
    },
    {
      "cell_type": "code",
      "metadata": {
        "colab": {
          "base_uri": "https://localhost:8080/"
        },
        "id": "N65eWNWsfePx",
        "outputId": "617624d0-33b8-4b1e-c797-a93f08cf0a3b"
      },
      "source": [
        "costo_chetos = 7.0 \n",
        "tienda_abierta = True\n",
        "capital_en_bolsa = 10.0\n",
        "\n",
        "se_compra = (costo_chetos < capital_en_bolsa) and (tienda_abierta == True) \n",
        "print(se_compra)"
      ],
      "execution_count": 17,
      "outputs": [
        {
          "output_type": "stream",
          "text": [
            "False\n"
          ],
          "name": "stdout"
        }
      ]
    }
  ]
}